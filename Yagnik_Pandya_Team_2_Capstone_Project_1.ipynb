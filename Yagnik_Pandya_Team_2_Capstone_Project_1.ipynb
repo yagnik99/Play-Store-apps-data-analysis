{
  "nbformat": 4,
  "nbformat_minor": 0,
  "metadata": {
    "kernelspec": {
      "display_name": "Python 3",
      "language": "python",
      "name": "python3"
    },
    "language_info": {
      "codemirror_mode": {
        "name": "ipython",
        "version": 3
      },
      "file_extension": ".py",
      "mimetype": "text/x-python",
      "name": "python",
      "nbconvert_exporter": "python",
      "pygments_lexer": "ipython3",
      "version": "3.6.6"
    },
    "colab": {
      "name": "Yagnik Pandya - Team 2 - Capstone Project 1.ipynb",
      "provenance": [],
      "collapsed_sections": [],
      "include_colab_link": true
    }
  },
  "cells": [
    {
      "cell_type": "markdown",
      "metadata": {
        "id": "view-in-github",
        "colab_type": "text"
      },
      "source": [
        "<a href=\"https://colab.research.google.com/github/yagnik99/Play_Store_apps-data-analysis/blob/main/Yagnik_Pandya_Team_2_Capstone_Project_1.ipynb\" target=\"_parent\"><img src=\"https://colab.research.google.com/assets/colab-badge.svg\" alt=\"Open In Colab\"/></a>"
      ]
    },
    {
      "cell_type": "markdown",
      "metadata": {
        "id": "Y06xIdG26kRF"
      },
      "source": [
        "## <b> The Play Store apps data has enormous potential to drive app-making businesses to success. Actionable insights can be drawn for developers to work on and capture the Android market. </b>\n",
        "\n",
        "## <b> Each app (row) has values for catergory, rating, size, and more. Another dataset contains customer reviews of the android apps.</b>\n",
        "\n",
        "## <b> Explore and analyze the data to discover key factors responsible for app engagement and success. </b>"
      ]
    },
    {
      "cell_type": "markdown",
      "metadata": {
        "id": "K0myDyHtguK1"
      },
      "source": [
        "## *Let's start with calling basic required libraries to deal with data and visualizing them.*"
      ]
    },
    {
      "cell_type": "code",
      "metadata": {
        "id": "dByMsuzT8Tnw"
      },
      "source": [
        "import pandas as pd\n",
        "import numpy as np\n",
        "import seaborn as sns\n",
        "import matplotlib.pyplot as plt\n",
        "from datetime import datetime\n",
        "from datetime import date"
      ],
      "execution_count": null,
      "outputs": []
    },
    {
      "cell_type": "code",
      "metadata": {
        "id": "5E4kjfOGDsFP",
        "outputId": "a8337722-0b98-49ba-81db-1a8ac750b060",
        "colab": {
          "base_uri": "https://localhost:8080/"
        }
      },
      "source": [
        "from google.colab import drive\n",
        "drive.mount('/content/drive')"
      ],
      "execution_count": null,
      "outputs": [
        {
          "output_type": "stream",
          "text": [
            "Drive already mounted at /content/drive; to attempt to forcibly remount, call drive.mount(\"/content/drive\", force_remount=True).\n"
          ],
          "name": "stdout"
        }
      ]
    },
    {
      "cell_type": "code",
      "metadata": {
        "id": "7NIvuV4NEHee"
      },
      "source": [
        "working_directory = '/content/drive/My Drive/AlmaBetter/Cohort Aravali/Module 2/Week 1/Capstone Project - 1/dat/'\n",
        "apps_df = pd.read_csv(working_directory + 'googleplaystore.csv')"
      ],
      "execution_count": null,
      "outputs": []
    },
    {
      "cell_type": "code",
      "metadata": {
        "id": "rRHJiUGZE0El"
      },
      "source": [
        "user_df=pd.read_csv(working_directory + 'googleplaystore_user_reviews.csv')"
      ],
      "execution_count": null,
      "outputs": []
    },
    {
      "cell_type": "markdown",
      "metadata": {
        "id": "HRPBw8hHh9Fo"
      },
      "source": [
        "## *We have two differents sets of data. One contains the Play Store apps data while the another dataset contains customer reviews of the android apps. We stored them in variables 'apps_df' and 'user_df' respectively. Let's check what this data wants to convey.*"
      ]
    },
    {
      "cell_type": "code",
      "metadata": {
        "id": "9_rzv8F0FAf5",
        "outputId": "33fa2751-7af3-4b71-d80b-ff5c79725e4a",
        "colab": {
          "base_uri": "https://localhost:8080/",
          "height": 323
        }
      },
      "source": [
        "apps_df.head()"
      ],
      "execution_count": null,
      "outputs": [
        {
          "output_type": "execute_result",
          "data": {
            "text/html": [
              "<div>\n",
              "<style scoped>\n",
              "    .dataframe tbody tr th:only-of-type {\n",
              "        vertical-align: middle;\n",
              "    }\n",
              "\n",
              "    .dataframe tbody tr th {\n",
              "        vertical-align: top;\n",
              "    }\n",
              "\n",
              "    .dataframe thead th {\n",
              "        text-align: right;\n",
              "    }\n",
              "</style>\n",
              "<table border=\"1\" class=\"dataframe\">\n",
              "  <thead>\n",
              "    <tr style=\"text-align: right;\">\n",
              "      <th></th>\n",
              "      <th>App</th>\n",
              "      <th>Category</th>\n",
              "      <th>Rating</th>\n",
              "      <th>Reviews</th>\n",
              "      <th>Size</th>\n",
              "      <th>Installs</th>\n",
              "      <th>Type</th>\n",
              "      <th>Price</th>\n",
              "      <th>Content Rating</th>\n",
              "      <th>Genres</th>\n",
              "      <th>Last Updated</th>\n",
              "      <th>Current Ver</th>\n",
              "      <th>Android Ver</th>\n",
              "    </tr>\n",
              "  </thead>\n",
              "  <tbody>\n",
              "    <tr>\n",
              "      <th>0</th>\n",
              "      <td>Photo Editor &amp; Candy Camera &amp; Grid &amp; ScrapBook</td>\n",
              "      <td>ART_AND_DESIGN</td>\n",
              "      <td>4.1</td>\n",
              "      <td>159</td>\n",
              "      <td>19M</td>\n",
              "      <td>10,000+</td>\n",
              "      <td>Free</td>\n",
              "      <td>0</td>\n",
              "      <td>Everyone</td>\n",
              "      <td>Art &amp; Design</td>\n",
              "      <td>January 7, 2018</td>\n",
              "      <td>1.0.0</td>\n",
              "      <td>4.0.3 and up</td>\n",
              "    </tr>\n",
              "    <tr>\n",
              "      <th>1</th>\n",
              "      <td>Coloring book moana</td>\n",
              "      <td>ART_AND_DESIGN</td>\n",
              "      <td>3.9</td>\n",
              "      <td>967</td>\n",
              "      <td>14M</td>\n",
              "      <td>500,000+</td>\n",
              "      <td>Free</td>\n",
              "      <td>0</td>\n",
              "      <td>Everyone</td>\n",
              "      <td>Art &amp; Design;Pretend Play</td>\n",
              "      <td>January 15, 2018</td>\n",
              "      <td>2.0.0</td>\n",
              "      <td>4.0.3 and up</td>\n",
              "    </tr>\n",
              "    <tr>\n",
              "      <th>2</th>\n",
              "      <td>U Launcher Lite – FREE Live Cool Themes, Hide ...</td>\n",
              "      <td>ART_AND_DESIGN</td>\n",
              "      <td>4.7</td>\n",
              "      <td>87510</td>\n",
              "      <td>8.7M</td>\n",
              "      <td>5,000,000+</td>\n",
              "      <td>Free</td>\n",
              "      <td>0</td>\n",
              "      <td>Everyone</td>\n",
              "      <td>Art &amp; Design</td>\n",
              "      <td>August 1, 2018</td>\n",
              "      <td>1.2.4</td>\n",
              "      <td>4.0.3 and up</td>\n",
              "    </tr>\n",
              "    <tr>\n",
              "      <th>3</th>\n",
              "      <td>Sketch - Draw &amp; Paint</td>\n",
              "      <td>ART_AND_DESIGN</td>\n",
              "      <td>4.5</td>\n",
              "      <td>215644</td>\n",
              "      <td>25M</td>\n",
              "      <td>50,000,000+</td>\n",
              "      <td>Free</td>\n",
              "      <td>0</td>\n",
              "      <td>Teen</td>\n",
              "      <td>Art &amp; Design</td>\n",
              "      <td>June 8, 2018</td>\n",
              "      <td>Varies with device</td>\n",
              "      <td>4.2 and up</td>\n",
              "    </tr>\n",
              "    <tr>\n",
              "      <th>4</th>\n",
              "      <td>Pixel Draw - Number Art Coloring Book</td>\n",
              "      <td>ART_AND_DESIGN</td>\n",
              "      <td>4.3</td>\n",
              "      <td>967</td>\n",
              "      <td>2.8M</td>\n",
              "      <td>100,000+</td>\n",
              "      <td>Free</td>\n",
              "      <td>0</td>\n",
              "      <td>Everyone</td>\n",
              "      <td>Art &amp; Design;Creativity</td>\n",
              "      <td>June 20, 2018</td>\n",
              "      <td>1.1</td>\n",
              "      <td>4.4 and up</td>\n",
              "    </tr>\n",
              "  </tbody>\n",
              "</table>\n",
              "</div>"
            ],
            "text/plain": [
              "                                                 App  ...   Android Ver\n",
              "0     Photo Editor & Candy Camera & Grid & ScrapBook  ...  4.0.3 and up\n",
              "1                                Coloring book moana  ...  4.0.3 and up\n",
              "2  U Launcher Lite – FREE Live Cool Themes, Hide ...  ...  4.0.3 and up\n",
              "3                              Sketch - Draw & Paint  ...    4.2 and up\n",
              "4              Pixel Draw - Number Art Coloring Book  ...    4.4 and up\n",
              "\n",
              "[5 rows x 13 columns]"
            ]
          },
          "metadata": {
            "tags": []
          },
          "execution_count": 271
        }
      ]
    },
    {
      "cell_type": "code",
      "metadata": {
        "id": "dK7L0FSlFNy4",
        "outputId": "dff1eae2-90a5-40a2-940b-d9454ebf5077",
        "colab": {
          "base_uri": "https://localhost:8080/"
        }
      },
      "source": [
        "apps_df.info()"
      ],
      "execution_count": null,
      "outputs": [
        {
          "output_type": "stream",
          "text": [
            "<class 'pandas.core.frame.DataFrame'>\n",
            "RangeIndex: 10841 entries, 0 to 10840\n",
            "Data columns (total 13 columns):\n",
            " #   Column          Non-Null Count  Dtype  \n",
            "---  ------          --------------  -----  \n",
            " 0   App             10841 non-null  object \n",
            " 1   Category        10841 non-null  object \n",
            " 2   Rating          9367 non-null   float64\n",
            " 3   Reviews         10841 non-null  object \n",
            " 4   Size            10841 non-null  object \n",
            " 5   Installs        10841 non-null  object \n",
            " 6   Type            10840 non-null  object \n",
            " 7   Price           10841 non-null  object \n",
            " 8   Content Rating  10840 non-null  object \n",
            " 9   Genres          10841 non-null  object \n",
            " 10  Last Updated    10841 non-null  object \n",
            " 11  Current Ver     10833 non-null  object \n",
            " 12  Android Ver     10838 non-null  object \n",
            "dtypes: float64(1), object(12)\n",
            "memory usage: 1.1+ MB\n"
          ],
          "name": "stdout"
        }
      ]
    },
    {
      "cell_type": "markdown",
      "metadata": {
        "id": "erCJGI4fgprr"
      },
      "source": [
        "##*   This dataset contains information on apps of different catagories with their ratings, size, number of installs, type and lot more like we normally see in our Play Store. Almost similar to data that are essential for success of any app.\n",
        "\n",
        "##*   From this we can come to a point that primary measure check success of any app is the no of installs. Data like reviews, rating and other are important but can consider them as factors affecting success and not the measure of success. For eg - Some apps may have high ratings but there may be users with interest in that category are very few.\n",
        "\n",
        "##*   Ratings column contains most null values. Will have to deal with those and other columns too.\n",
        "\n",
        "##*   Some basic analysis from this data set-\n",
        "## > 1.   Measure of success - Installs\n",
        "## > 2.   Factors affecting success - Primary factors ratings and reviews. Also others do affect and will see how we deal with that.\n",
        "\n",
        "##* Meanwhile lets check our other dataset."
      ]
    },
    {
      "cell_type": "code",
      "metadata": {
        "id": "KiteyJlVFYrQ",
        "outputId": "47dc2a14-f6c4-4352-8eed-509a50a638b4",
        "colab": {
          "base_uri": "https://localhost:8080/",
          "height": 204
        }
      },
      "source": [
        "#reviews data set\n",
        "user_df.head()"
      ],
      "execution_count": null,
      "outputs": [
        {
          "output_type": "execute_result",
          "data": {
            "text/html": [
              "<div>\n",
              "<style scoped>\n",
              "    .dataframe tbody tr th:only-of-type {\n",
              "        vertical-align: middle;\n",
              "    }\n",
              "\n",
              "    .dataframe tbody tr th {\n",
              "        vertical-align: top;\n",
              "    }\n",
              "\n",
              "    .dataframe thead th {\n",
              "        text-align: right;\n",
              "    }\n",
              "</style>\n",
              "<table border=\"1\" class=\"dataframe\">\n",
              "  <thead>\n",
              "    <tr style=\"text-align: right;\">\n",
              "      <th></th>\n",
              "      <th>App</th>\n",
              "      <th>Translated_Review</th>\n",
              "      <th>Sentiment</th>\n",
              "      <th>Sentiment_Polarity</th>\n",
              "      <th>Sentiment_Subjectivity</th>\n",
              "    </tr>\n",
              "  </thead>\n",
              "  <tbody>\n",
              "    <tr>\n",
              "      <th>0</th>\n",
              "      <td>10 Best Foods for You</td>\n",
              "      <td>I like eat delicious food. That's I'm cooking ...</td>\n",
              "      <td>Positive</td>\n",
              "      <td>1.00</td>\n",
              "      <td>0.533333</td>\n",
              "    </tr>\n",
              "    <tr>\n",
              "      <th>1</th>\n",
              "      <td>10 Best Foods for You</td>\n",
              "      <td>This help eating healthy exercise regular basis</td>\n",
              "      <td>Positive</td>\n",
              "      <td>0.25</td>\n",
              "      <td>0.288462</td>\n",
              "    </tr>\n",
              "    <tr>\n",
              "      <th>2</th>\n",
              "      <td>10 Best Foods for You</td>\n",
              "      <td>NaN</td>\n",
              "      <td>NaN</td>\n",
              "      <td>NaN</td>\n",
              "      <td>NaN</td>\n",
              "    </tr>\n",
              "    <tr>\n",
              "      <th>3</th>\n",
              "      <td>10 Best Foods for You</td>\n",
              "      <td>Works great especially going grocery store</td>\n",
              "      <td>Positive</td>\n",
              "      <td>0.40</td>\n",
              "      <td>0.875000</td>\n",
              "    </tr>\n",
              "    <tr>\n",
              "      <th>4</th>\n",
              "      <td>10 Best Foods for You</td>\n",
              "      <td>Best idea us</td>\n",
              "      <td>Positive</td>\n",
              "      <td>1.00</td>\n",
              "      <td>0.300000</td>\n",
              "    </tr>\n",
              "  </tbody>\n",
              "</table>\n",
              "</div>"
            ],
            "text/plain": [
              "                     App  ... Sentiment_Subjectivity\n",
              "0  10 Best Foods for You  ...               0.533333\n",
              "1  10 Best Foods for You  ...               0.288462\n",
              "2  10 Best Foods for You  ...                    NaN\n",
              "3  10 Best Foods for You  ...               0.875000\n",
              "4  10 Best Foods for You  ...               0.300000\n",
              "\n",
              "[5 rows x 5 columns]"
            ]
          },
          "metadata": {
            "tags": []
          },
          "execution_count": 273
        }
      ]
    },
    {
      "cell_type": "code",
      "metadata": {
        "id": "NC9mlN9FFosC",
        "outputId": "af6cb614-ad44-49f4-df69-1eef4a4e2fac",
        "colab": {
          "base_uri": "https://localhost:8080/"
        }
      },
      "source": [
        "user_df.info()"
      ],
      "execution_count": null,
      "outputs": [
        {
          "output_type": "stream",
          "text": [
            "<class 'pandas.core.frame.DataFrame'>\n",
            "RangeIndex: 64295 entries, 0 to 64294\n",
            "Data columns (total 5 columns):\n",
            " #   Column                  Non-Null Count  Dtype  \n",
            "---  ------                  --------------  -----  \n",
            " 0   App                     64295 non-null  object \n",
            " 1   Translated_Review       37427 non-null  object \n",
            " 2   Sentiment               37432 non-null  object \n",
            " 3   Sentiment_Polarity      37432 non-null  float64\n",
            " 4   Sentiment_Subjectivity  37432 non-null  float64\n",
            "dtypes: float64(2), object(3)\n",
            "memory usage: 2.5+ MB\n"
          ],
          "name": "stdout"
        }
      ]
    },
    {
      "cell_type": "markdown",
      "metadata": {
        "id": "tK-WypSsgjre"
      },
      "source": [
        "\n",
        "\n",
        "*   This data set contains user translated reviews. Sentiments are like boolean values of user translated reviews having values - 'positive','negetive' and 'neutral'. \n",
        "*   Sentiment Polarity is the scale value of reviews that range from -1 to 1. Means for positive it would be in range 0 to 1. Like-wise for negetive it would be -1 to 0. And for neutral it will be 0.\n",
        "* For sentimennt subjectivity we can consider it as pitch of review. It measured on scale 0 to 1. Means if review words are too good it would be 1. Similarly if review words are too bad its value will be 1.\n",
        "\n",
        "### This data seems useful to replace or relate our 'Reviews' column in apps data set. Better to begin with this dataframe.\n",
        "\n"
      ]
    },
    {
      "cell_type": "markdown",
      "metadata": {
        "id": "W24PUQfwi_XZ"
      },
      "source": [
        "## *Almost half of the values are null. It is better to just omit them rather than replacing it because we can predict rating by giving mean or such data. Also if any of the columns are null it wouldn't prove useful as all this columns are mostly related to each other.*"
      ]
    },
    {
      "cell_type": "code",
      "metadata": {
        "id": "5nrrYn5rwlH2"
      },
      "source": [
        "#removimg missing values in user reviews\n",
        "user_df.dropna(inplace=True)"
      ],
      "execution_count": null,
      "outputs": []
    },
    {
      "cell_type": "markdown",
      "metadata": {
        "id": "pcPM0Bylj4Kn"
      },
      "source": [
        "### *Even by droping null values we get same rows for Translated reviews as before. So seems better and no worries to proceed with this.*"
      ]
    },
    {
      "cell_type": "code",
      "metadata": {
        "id": "U-IWkP0d54xU",
        "outputId": "04956eba-31c6-4c5f-e86b-e46b40fc8a61",
        "colab": {
          "base_uri": "https://localhost:8080/"
        }
      },
      "source": [
        "#checking reviews DF\n",
        "user_df.info()"
      ],
      "execution_count": null,
      "outputs": [
        {
          "output_type": "stream",
          "text": [
            "<class 'pandas.core.frame.DataFrame'>\n",
            "Int64Index: 37427 entries, 0 to 64230\n",
            "Data columns (total 5 columns):\n",
            " #   Column                  Non-Null Count  Dtype  \n",
            "---  ------                  --------------  -----  \n",
            " 0   App                     37427 non-null  object \n",
            " 1   Translated_Review       37427 non-null  object \n",
            " 2   Sentiment               37427 non-null  object \n",
            " 3   Sentiment_Polarity      37427 non-null  float64\n",
            " 4   Sentiment_Subjectivity  37427 non-null  float64\n",
            "dtypes: float64(2), object(3)\n",
            "memory usage: 1.7+ MB\n"
          ],
          "name": "stdout"
        }
      ]
    },
    {
      "cell_type": "code",
      "metadata": {
        "id": "3qC5qRfJ9EKZ",
        "outputId": "a92416d3-eecc-4ba5-a9c7-c54c69ce5c89",
        "colab": {
          "base_uri": "https://localhost:8080/",
          "height": 142
        }
      },
      "source": [
        "x=pd.DataFrame(user_df['Sentiment'].value_counts())\n",
        "x"
      ],
      "execution_count": null,
      "outputs": [
        {
          "output_type": "execute_result",
          "data": {
            "text/html": [
              "<div>\n",
              "<style scoped>\n",
              "    .dataframe tbody tr th:only-of-type {\n",
              "        vertical-align: middle;\n",
              "    }\n",
              "\n",
              "    .dataframe tbody tr th {\n",
              "        vertical-align: top;\n",
              "    }\n",
              "\n",
              "    .dataframe thead th {\n",
              "        text-align: right;\n",
              "    }\n",
              "</style>\n",
              "<table border=\"1\" class=\"dataframe\">\n",
              "  <thead>\n",
              "    <tr style=\"text-align: right;\">\n",
              "      <th></th>\n",
              "      <th>Sentiment</th>\n",
              "    </tr>\n",
              "  </thead>\n",
              "  <tbody>\n",
              "    <tr>\n",
              "      <th>Positive</th>\n",
              "      <td>23998</td>\n",
              "    </tr>\n",
              "    <tr>\n",
              "      <th>Negative</th>\n",
              "      <td>8271</td>\n",
              "    </tr>\n",
              "    <tr>\n",
              "      <th>Neutral</th>\n",
              "      <td>5158</td>\n",
              "    </tr>\n",
              "  </tbody>\n",
              "</table>\n",
              "</div>"
            ],
            "text/plain": [
              "          Sentiment\n",
              "Positive      23998\n",
              "Negative       8271\n",
              "Neutral        5158"
            ]
          },
          "metadata": {
            "tags": []
          },
          "execution_count": 277
        }
      ]
    },
    {
      "cell_type": "code",
      "metadata": {
        "id": "Lri6ahBY7v-B",
        "outputId": "332af08a-4458-45e3-a429-0872196b25ab",
        "colab": {
          "base_uri": "https://localhost:8080/",
          "height": 456
        }
      },
      "source": [
        "plt.rcParams['figure.figsize'] = (8, 5)\n",
        "plt.pie(x['Sentiment'],labels=x.index,autopct='%1.1f%%')"
      ],
      "execution_count": null,
      "outputs": [
        {
          "output_type": "execute_result",
          "data": {
            "text/plain": [
              "([<matplotlib.patches.Wedge at 0x7fe726f70da0>,\n",
              "  <matplotlib.patches.Wedge at 0x7fe726f7e588>,\n",
              "  <matplotlib.patches.Wedge at 0x7fe726f7ecf8>],\n",
              " [Text(-0.4720901319930675, 0.9935446176567856, 'Positive'),\n",
              "  Text(0.011680069551688514, -1.0999379873316804, 'Negative'),\n",
              "  Text(0.9985013967377232, -0.46151377088101725, 'Neutral')],\n",
              " [Text(-0.257503708359855, 0.5419334278127921, '64.1%'),\n",
              "  Text(0.006370947028193734, -0.5999661749081893, '22.1%'),\n",
              "  Text(0.5446371254933035, -0.25173478411691846, '13.8%')])"
            ]
          },
          "metadata": {
            "tags": []
          },
          "execution_count": 278
        },
        {
          "output_type": "display_data",
          "data": {
            "image/png": "[encoded data removed]",
            "text/plain": [
              "<Figure size 576x360 with 1 Axes>"
            ]
          },
          "metadata": {
            "tags": []
          }
        }
      ]
    },
    {
      "cell_type": "code",
      "metadata": {
        "id": "-UO6OiIjBOd7",
        "outputId": "a31a1cc5-ecd1-4f7a-b601-aba55632fc99",
        "colab": {
          "base_uri": "https://localhost:8080/",
          "height": 460
        }
      },
      "source": [
        "plt.rcParams['figure.figsize'] = (10, 7)\n",
        "sns.scatterplot(x=user_df['Sentiment_Polarity'],y=user_df['Sentiment_Subjectivity'])"
      ],
      "execution_count": null,
      "outputs": [
        {
          "output_type": "execute_result",
          "data": {
            "text/plain": [
              "<matplotlib.axes._subplots.AxesSubplot at 0x7fe726f13588>"
            ]
          },
          "metadata": {
            "tags": []
          },
          "execution_count": 279
        },
        {
          "output_type": "display_data",
          "data": {
            "image/png": "[encoded data removed]",
            "text/plain": [
              "<Figure size 720x504 with 1 Axes>"
            ]
          },
          "metadata": {
            "tags": [],
            "needs_background": "light"
          }
        }
      ]
    },
    {
      "cell_type": "markdown",
      "metadata": {
        "id": "spZMzCM4COhl"
      },
      "source": [
        "## *Subjectivity for most of apps is above 0.4. Mostly for neutral polarity a bit low. Will see more by taking mean.*"
      ]
    },
    {
      "cell_type": "code",
      "metadata": {
        "id": "609JMFW3HlQg",
        "outputId": "06067dfa-c163-4f25-bb4e-03a57c2276fb",
        "colab": {
          "base_uri": "https://localhost:8080/",
          "height": 450
        }
      },
      "source": [
        "x=pd.merge((user_df.groupby('App').agg({'Sentiment_Polarity':'mean'})),(user_df.groupby('App').agg({'Sentiment_Subjectivity':'mean'})),on='App')\n",
        "x"
      ],
      "execution_count": null,
      "outputs": [
        {
          "output_type": "execute_result",
          "data": {
            "text/html": [
              "<div>\n",
              "<style scoped>\n",
              "    .dataframe tbody tr th:only-of-type {\n",
              "        vertical-align: middle;\n",
              "    }\n",
              "\n",
              "    .dataframe tbody tr th {\n",
              "        vertical-align: top;\n",
              "    }\n",
              "\n",
              "    .dataframe thead th {\n",
              "        text-align: right;\n",
              "    }\n",
              "</style>\n",
              "<table border=\"1\" class=\"dataframe\">\n",
              "  <thead>\n",
              "    <tr style=\"text-align: right;\">\n",
              "      <th></th>\n",
              "      <th>Sentiment_Polarity</th>\n",
              "      <th>Sentiment_Subjectivity</th>\n",
              "    </tr>\n",
              "    <tr>\n",
              "      <th>App</th>\n",
              "      <th></th>\n",
              "      <th></th>\n",
              "    </tr>\n",
              "  </thead>\n",
              "  <tbody>\n",
              "    <tr>\n",
              "      <th>10 Best Foods for You</th>\n",
              "      <td>0.470733</td>\n",
              "      <td>0.495455</td>\n",
              "    </tr>\n",
              "    <tr>\n",
              "      <th>104 找工作 - 找工作 找打工 找兼職 履歷健檢 履歷診療室</th>\n",
              "      <td>0.392405</td>\n",
              "      <td>0.545516</td>\n",
              "    </tr>\n",
              "    <tr>\n",
              "      <th>11st</th>\n",
              "      <td>0.185943</td>\n",
              "      <td>0.455340</td>\n",
              "    </tr>\n",
              "    <tr>\n",
              "      <th>1800 Contacts - Lens Store</th>\n",
              "      <td>0.318145</td>\n",
              "      <td>0.591098</td>\n",
              "    </tr>\n",
              "    <tr>\n",
              "      <th>1LINE – One Line with One Touch</th>\n",
              "      <td>0.196290</td>\n",
              "      <td>0.557315</td>\n",
              "    </tr>\n",
              "    <tr>\n",
              "      <th>...</th>\n",
              "      <td>...</td>\n",
              "      <td>...</td>\n",
              "    </tr>\n",
              "    <tr>\n",
              "      <th>Hotels.com: Book Hotel Rooms &amp; Find Vacation Deals</th>\n",
              "      <td>0.101622</td>\n",
              "      <td>0.545444</td>\n",
              "    </tr>\n",
              "    <tr>\n",
              "      <th>Hotspot Shield Free VPN Proxy &amp; Wi-Fi Security</th>\n",
              "      <td>0.251765</td>\n",
              "      <td>0.393284</td>\n",
              "    </tr>\n",
              "    <tr>\n",
              "      <th>Hotstar</th>\n",
              "      <td>0.038178</td>\n",
              "      <td>0.493964</td>\n",
              "    </tr>\n",
              "    <tr>\n",
              "      <th>Hotwire Hotel &amp; Car Rental App</th>\n",
              "      <td>0.187029</td>\n",
              "      <td>0.459717</td>\n",
              "    </tr>\n",
              "    <tr>\n",
              "      <th>Housing-Real Estate &amp; Property</th>\n",
              "      <td>-0.021427</td>\n",
              "      <td>0.378532</td>\n",
              "    </tr>\n",
              "  </tbody>\n",
              "</table>\n",
              "<p>865 rows × 2 columns</p>\n",
              "</div>"
            ],
            "text/plain": [
              "                                                    Sentiment_Polarity  Sentiment_Subjectivity\n",
              "App                                                                                           \n",
              "10 Best Foods for You                                         0.470733                0.495455\n",
              "104 找工作 - 找工作 找打工 找兼職 履歷健檢 履歷診療室                              0.392405                0.545516\n",
              "11st                                                          0.185943                0.455340\n",
              "1800 Contacts - Lens Store                                    0.318145                0.591098\n",
              "1LINE – One Line with One Touch                               0.196290                0.557315\n",
              "...                                                                ...                     ...\n",
              "Hotels.com: Book Hotel Rooms & Find Vacation Deals            0.101622                0.545444\n",
              "Hotspot Shield Free VPN Proxy & Wi-Fi Security                0.251765                0.393284\n",
              "Hotstar                                                       0.038178                0.493964\n",
              "Hotwire Hotel & Car Rental App                                0.187029                0.459717\n",
              "Housing-Real Estate & Property                               -0.021427                0.378532\n",
              "\n",
              "[865 rows x 2 columns]"
            ]
          },
          "metadata": {
            "tags": []
          },
          "execution_count": 280
        }
      ]
    },
    {
      "cell_type": "code",
      "metadata": {
        "id": "md4C5NeeImGo",
        "outputId": "680cf52e-59f1-468f-febd-5adbf28e8f9c",
        "colab": {
          "base_uri": "https://localhost:8080/"
        }
      },
      "source": [
        "polarity=round(x['Sentiment_Polarity']).tolist()\n",
        "subjectivity=round(x['Sentiment_Subjectivity']).tolist()\n",
        "type(subjectivity)"
      ],
      "execution_count": null,
      "outputs": [
        {
          "output_type": "execute_result",
          "data": {
            "text/plain": [
              "list"
            ]
          },
          "metadata": {
            "tags": []
          },
          "execution_count": 281
        }
      ]
    },
    {
      "cell_type": "code",
      "metadata": {
        "id": "MpikNMKnIH3q",
        "outputId": "2abf09c6-e90b-4aeb-f68f-8e8b2bbdc695",
        "colab": {
          "base_uri": "https://localhost:8080/",
          "height": 351
        }
      },
      "source": [
        "plt.rcParams['figure.figsize'] = (8, 5)\n",
        "sns.lineplot(x=polarity,y=subjectivity)\n",
        "plt.ylabel('Subjectivity')\n",
        "plt.xlabel('Polarity')"
      ],
      "execution_count": null,
      "outputs": [
        {
          "output_type": "execute_result",
          "data": {
            "text/plain": [
              "Text(0.5, 0, 'Polarity')"
            ]
          },
          "metadata": {
            "tags": []
          },
          "execution_count": 282
        },
        {
          "output_type": "display_data",
          "data": {
            "image/png": "[encoded data removed]",
            "text/plain": [
              "<Figure size 576x360 with 1 Axes>"
            ]
          },
          "metadata": {
            "tags": [],
            "needs_background": "light"
          }
        }
      ]
    },
    {
      "cell_type": "markdown",
      "metadata": {
        "id": "6ZWKOVlXLCBb"
      },
      "source": [
        "### *As seen before for negetive and positive values of polarity, subjectivity is high and for neutral subjectivity is low. Basis this we can assume that for neutral polarity, senitments or reviews are less.*\n",
        "\n",
        "### *   Like person giving avg ratings not interested in giving reviews or reviews are good in pitch. Like wise reviews are mostly given by below avg rating or above are actual and neutral rating/neutral sentiments are just for a sake to give a review.\n",
        "\n",
        "### *In our data we have most of positive reviews. So if required can check our result with counts of positive or negetive sentiments.*"
      ]
    },
    {
      "cell_type": "code",
      "metadata": {
        "id": "dHU0MSkLjKNZ"
      },
      "source": [
        "#trim user DF sentiments with values other than positive and negetive\n",
        "new_user_df=user_df[(user_df['Sentiment']=='Positive') | (user_df['Sentiment']=='Negetive')]"
      ],
      "execution_count": null,
      "outputs": []
    },
    {
      "cell_type": "code",
      "metadata": {
        "id": "wVFCnbEwLCZo"
      },
      "source": [
        "def count_psentiments(string):\n",
        "  count=0\n",
        "  for index,row in new_user_df[['App','Sentiment']].iterrows():\n",
        "    if row['App']==string:\n",
        "      if row['Sentiment']=='Positive':\n",
        "        count+=1\n",
        "  return count\n",
        "\n",
        "def count_nsentiments(string):\n",
        "  count=0\n",
        "  for index,row in new_user_df[['App','Sentiment']].iterrows():\n",
        "    if row['App']==string:\n",
        "      if row['Sentiment']=='Negative':\n",
        "        count+=1\n",
        "  return count"
      ],
      "execution_count": null,
      "outputs": []
    },
    {
      "cell_type": "code",
      "metadata": {
        "id": "G-IrhDfYleM_",
        "outputId": "d6c52a6a-94e6-41fa-8336-cef44655f2ce",
        "colab": {
          "base_uri": "https://localhost:8080/"
        }
      },
      "source": [
        "#sanity check to our function\n",
        "print(apps_df['App'][1])\n",
        "print(count_psentiments(apps_df['App'][1]))\n",
        "count_nsentiments(apps_df['App'][1])"
      ],
      "execution_count": null,
      "outputs": [
        {
          "output_type": "stream",
          "text": [
            "Coloring book moana\n",
            "26\n"
          ],
          "name": "stdout"
        },
        {
          "output_type": "execute_result",
          "data": {
            "text/plain": [
              "0"
            ]
          },
          "metadata": {
            "tags": []
          },
          "execution_count": 318
        }
      ]
    },
    {
      "cell_type": "markdown",
      "metadata": {
        "id": "Fnzl-J8Is30v"
      },
      "source": [
        "# ***Checking 1st DF***"
      ]
    },
    {
      "cell_type": "code",
      "metadata": {
        "id": "F7PuScMGh3WL",
        "outputId": "2f2efac0-ee13-4c3b-e384-260ecbf8c0eb",
        "colab": {
          "base_uri": "https://localhost:8080/"
        }
      },
      "source": [
        "#check no of duplicate apps and removing those duplicate rows\n",
        "apps_df.duplicated(subset='App').value_counts()"
      ],
      "execution_count": null,
      "outputs": [
        {
          "output_type": "execute_result",
          "data": {
            "text/plain": [
              "False    9660\n",
              "True     1181\n",
              "dtype: int64"
            ]
          },
          "metadata": {
            "tags": []
          },
          "execution_count": 286
        }
      ]
    },
    {
      "cell_type": "code",
      "metadata": {
        "id": "Wt7Hry1YtTDM",
        "outputId": "599f23d0-27d1-452d-999b-27e7680987b2",
        "colab": {
          "base_uri": "https://localhost:8080/"
        }
      },
      "source": [
        "apps_df=apps_df.drop_duplicates(subset='App')\n",
        "apps_df.info()"
      ],
      "execution_count": null,
      "outputs": [
        {
          "output_type": "stream",
          "text": [
            "<class 'pandas.core.frame.DataFrame'>\n",
            "Int64Index: 9660 entries, 0 to 10840\n",
            "Data columns (total 13 columns):\n",
            " #   Column          Non-Null Count  Dtype  \n",
            "---  ------          --------------  -----  \n",
            " 0   App             9660 non-null   object \n",
            " 1   Category        9660 non-null   object \n",
            " 2   Rating          8197 non-null   float64\n",
            " 3   Reviews         9660 non-null   object \n",
            " 4   Size            9660 non-null   object \n",
            " 5   Installs        9660 non-null   object \n",
            " 6   Type            9659 non-null   object \n",
            " 7   Price           9660 non-null   object \n",
            " 8   Content Rating  9659 non-null   object \n",
            " 9   Genres          9660 non-null   object \n",
            " 10  Last Updated    9660 non-null   object \n",
            " 11  Current Ver     9652 non-null   object \n",
            " 12  Android Ver     9657 non-null   object \n",
            "dtypes: float64(1), object(12)\n",
            "memory usage: 1.0+ MB\n"
          ],
          "name": "stdout"
        }
      ]
    },
    {
      "cell_type": "code",
      "metadata": {
        "id": "1TJBrEE3tTOs"
      },
      "source": [
        "#Rating has most null values but cannot remove them all. So will remove null values other than ratings.\n",
        "apps_df.dropna(inplace=True,subset=['Type','Content Rating','Current Ver','Android Ver'])"
      ],
      "execution_count": null,
      "outputs": []
    },
    {
      "cell_type": "code",
      "metadata": {
        "id": "nFn0oqg8tTY-",
        "outputId": "cb508e0f-d5e3-473e-9814-8a38fa4f1d56",
        "colab": {
          "base_uri": "https://localhost:8080/"
        }
      },
      "source": [
        "#replacing null values in raating by 0.\n",
        "apps_df.fillna(0,inplace=True)\n",
        "apps_df.info()"
      ],
      "execution_count": null,
      "outputs": [
        {
          "output_type": "stream",
          "text": [
            "<class 'pandas.core.frame.DataFrame'>\n",
            "Int64Index: 9648 entries, 0 to 10840\n",
            "Data columns (total 13 columns):\n",
            " #   Column          Non-Null Count  Dtype  \n",
            "---  ------          --------------  -----  \n",
            " 0   App             9648 non-null   object \n",
            " 1   Category        9648 non-null   object \n",
            " 2   Rating          9648 non-null   float64\n",
            " 3   Reviews         9648 non-null   object \n",
            " 4   Size            9648 non-null   object \n",
            " 5   Installs        9648 non-null   object \n",
            " 6   Type            9648 non-null   object \n",
            " 7   Price           9648 non-null   object \n",
            " 8   Content Rating  9648 non-null   object \n",
            " 9   Genres          9648 non-null   object \n",
            " 10  Last Updated    9648 non-null   object \n",
            " 11  Current Ver     9648 non-null   object \n",
            " 12  Android Ver     9648 non-null   object \n",
            "dtypes: float64(1), object(12)\n",
            "memory usage: 1.0+ MB\n"
          ],
          "name": "stdout"
        }
      ]
    },
    {
      "cell_type": "markdown",
      "metadata": {
        "id": "VdBK9dK_AD27"
      },
      "source": [
        "# *There are many numeric value columns that has Dtype object. Will change that to numeric.*"
      ]
    },
    {
      "cell_type": "markdown",
      "metadata": {
        "id": "CQ3JNZsmOu_4"
      },
      "source": [
        "## For Installs"
      ]
    },
    {
      "cell_type": "code",
      "metadata": {
        "id": "w7KLaS-aAY2H",
        "outputId": "cae530c7-fdd6-45ee-c129-56af6a63dca4",
        "colab": {
          "base_uri": "https://localhost:8080/"
        }
      },
      "source": [
        "apps_df['Installs'].value_counts()"
      ],
      "execution_count": null,
      "outputs": [
        {
          "output_type": "execute_result",
          "data": {
            "text/plain": [
              "1,000,000+        1416\n",
              "100,000+          1112\n",
              "10,000+           1029\n",
              "10,000,000+        937\n",
              "1,000+             886\n",
              "100+               709\n",
              "5,000,000+         607\n",
              "500,000+           504\n",
              "50,000+            468\n",
              "5,000+             467\n",
              "10+                384\n",
              "500+               328\n",
              "50+                204\n",
              "50,000,000+        202\n",
              "100,000,000+       188\n",
              "5+                  82\n",
              "1+                  67\n",
              "500,000,000+        24\n",
              "1,000,000,000+      20\n",
              "0+                  14\n",
              "Name: Installs, dtype: int64"
            ]
          },
          "metadata": {
            "tags": []
          },
          "execution_count": 290
        }
      ]
    },
    {
      "cell_type": "code",
      "metadata": {
        "id": "NcvwfZo3AxnS"
      },
      "source": [
        "#function to convert strings to int\n",
        "def string_to_int(string):\n",
        "  string=string.replace(',','')\n",
        "  return int(string[:-1])"
      ],
      "execution_count": null,
      "outputs": []
    },
    {
      "cell_type": "code",
      "metadata": {
        "id": "wqYmGiYXAxd7"
      },
      "source": [
        "apps_df['Installs']=apps_df['Installs'].apply(string_to_int)"
      ],
      "execution_count": null,
      "outputs": []
    },
    {
      "cell_type": "markdown",
      "metadata": {
        "id": "MM4TfXRIO8gV"
      },
      "source": [
        "## For Review"
      ]
    },
    {
      "cell_type": "code",
      "metadata": {
        "id": "ifxYqjt_ExAH"
      },
      "source": [
        "#function for Review column\n",
        "def string_to_integer(string):\n",
        "  return int(string)"
      ],
      "execution_count": null,
      "outputs": []
    },
    {
      "cell_type": "code",
      "metadata": {
        "id": "rdSmtDppExVq"
      },
      "source": [
        "apps_df['Reviews']=apps_df['Reviews'].apply(string_to_integer)"
      ],
      "execution_count": null,
      "outputs": []
    },
    {
      "cell_type": "markdown",
      "metadata": {
        "id": "_GZakCYSPEr5"
      },
      "source": [
        "## For Price"
      ]
    },
    {
      "cell_type": "code",
      "metadata": {
        "id": "6FFbDuCiFc8m"
      },
      "source": [
        "#function for price (All prices are in $)\n",
        "def string_to_float(string):\n",
        "  if string=='0':\n",
        "    return 0\n",
        "  else:\n",
        "    return float(string[1:])"
      ],
      "execution_count": null,
      "outputs": []
    },
    {
      "cell_type": "code",
      "metadata": {
        "id": "jMkTN6bWGGCU"
      },
      "source": [
        "apps_df['Price']=apps_df['Price'].apply(string_to_float)"
      ],
      "execution_count": null,
      "outputs": []
    },
    {
      "cell_type": "code",
      "metadata": {
        "id": "xR7N45G1GdWY",
        "outputId": "09ee225f-d9b4-4a42-ea2f-7e00e6c1e05e",
        "colab": {
          "base_uri": "https://localhost:8080/"
        }
      },
      "source": [
        "apps_df['Price'].describe()"
      ],
      "execution_count": null,
      "outputs": [
        {
          "output_type": "execute_result",
          "data": {
            "text/plain": [
              "count    9648.000000\n",
              "mean        1.100193\n",
              "std        16.861727\n",
              "min         0.000000\n",
              "25%         0.000000\n",
              "50%         0.000000\n",
              "75%         0.000000\n",
              "max       400.000000\n",
              "Name: Price, dtype: float64"
            ]
          },
          "metadata": {
            "tags": []
          },
          "execution_count": 297
        }
      ]
    },
    {
      "cell_type": "code",
      "metadata": {
        "id": "3EX7RxvRC0nX",
        "outputId": "7821d6a2-4801-43ba-8a17-382c1a27dbfe",
        "colab": {
          "base_uri": "https://localhost:8080/"
        }
      },
      "source": [
        "#for better idea\n",
        "apps_df['Price'].value_counts()"
      ],
      "execution_count": null,
      "outputs": [
        {
          "output_type": "execute_result",
          "data": {
            "text/plain": [
              "0.00     8895\n",
              "0.99      143\n",
              "2.99      124\n",
              "1.99       73\n",
              "4.99       70\n",
              "         ... \n",
              "1.59        1\n",
              "46.99       1\n",
              "19.90       1\n",
              "28.99       1\n",
              "1.04        1\n",
              "Name: Price, Length: 92, dtype: int64"
            ]
          },
          "metadata": {
            "tags": []
          },
          "execution_count": 298
        }
      ]
    },
    {
      "cell_type": "markdown",
      "metadata": {
        "id": "2zO0MzRWPKOo"
      },
      "source": [
        "## For Size"
      ]
    },
    {
      "cell_type": "code",
      "metadata": {
        "id": "5y_yqJjiC1xy"
      },
      "source": [
        "#function for size. Will be giving 0 for app size that varies with device. As size can't be zero and can also be treated as variable size.\n",
        "def string_to_float_size(string):\n",
        "  string=string.upper()\n",
        "  if string=='VARIES WITH DEVICE':\n",
        "    return 0\n",
        "  elif 'M' in string:\n",
        "    return float(string[:-1])*1000\n",
        "  elif 'K' in string:\n",
        "    return float(string[:-1])\n",
        "  else:\n",
        "    return float(string)"
      ],
      "execution_count": null,
      "outputs": []
    },
    {
      "cell_type": "code",
      "metadata": {
        "id": "r1lY4YgiC2IP"
      },
      "source": [
        "apps_df['Size_in_kb']=apps_df['Size'].apply(string_to_float_size)"
      ],
      "execution_count": null,
      "outputs": []
    },
    {
      "cell_type": "code",
      "metadata": {
        "id": "OQf4CaJQKRXm",
        "outputId": "9d1795ce-12ed-4c50-ce57-7d5c9af5e541",
        "colab": {
          "base_uri": "https://localhost:8080/"
        }
      },
      "source": [
        "apps_df['Size_in_kb'].describe()"
      ],
      "execution_count": null,
      "outputs": [
        {
          "output_type": "execute_result",
          "data": {
            "text/plain": [
              "count      9648.000000\n",
              "mean      17819.885106\n",
              "std       21502.004017\n",
              "min           0.000000\n",
              "25%        2900.000000\n",
              "50%        9200.000000\n",
              "75%       25000.000000\n",
              "max      100000.000000\n",
              "Name: Size_in_kb, dtype: float64"
            ]
          },
          "metadata": {
            "tags": []
          },
          "execution_count": 301
        }
      ]
    },
    {
      "cell_type": "markdown",
      "metadata": {
        "id": "_izVNojmoJRg"
      },
      "source": [
        "# *Taking Updatiion year from 'Last Updated' column. Might prove useful further.*"
      ]
    },
    {
      "cell_type": "code",
      "metadata": {
        "id": "TeIkf4eRocUx"
      },
      "source": [
        "def string_to_year(string):\n",
        "  return int(string[-4:])"
      ],
      "execution_count": null,
      "outputs": []
    },
    {
      "cell_type": "code",
      "metadata": {
        "id": "Bv4_PKr0rMkW"
      },
      "source": [
        "apps_df['updation_year']=apps_df['Last Updated'].apply(string_to_year)"
      ],
      "execution_count": null,
      "outputs": []
    },
    {
      "cell_type": "code",
      "metadata": {
        "id": "5KaYe8WDrMZ4",
        "outputId": "081a1c8f-ac7c-4cf5-9167-49e2eee04811",
        "colab": {
          "base_uri": "https://localhost:8080/"
        }
      },
      "source": [
        "apps_df.info()"
      ],
      "execution_count": null,
      "outputs": [
        {
          "output_type": "stream",
          "text": [
            "<class 'pandas.core.frame.DataFrame'>\n",
            "Int64Index: 9648 entries, 0 to 10840\n",
            "Data columns (total 15 columns):\n",
            " #   Column          Non-Null Count  Dtype  \n",
            "---  ------          --------------  -----  \n",
            " 0   App             9648 non-null   object \n",
            " 1   Category        9648 non-null   object \n",
            " 2   Rating          9648 non-null   float64\n",
            " 3   Reviews         9648 non-null   int64  \n",
            " 4   Size            9648 non-null   object \n",
            " 5   Installs        9648 non-null   int64  \n",
            " 6   Type            9648 non-null   object \n",
            " 7   Price           9648 non-null   float64\n",
            " 8   Content Rating  9648 non-null   object \n",
            " 9   Genres          9648 non-null   object \n",
            " 10  Last Updated    9648 non-null   object \n",
            " 11  Current Ver     9648 non-null   object \n",
            " 12  Android Ver     9648 non-null   object \n",
            " 13  Size_in_kb      9648 non-null   float64\n",
            " 14  updation_year   9648 non-null   int64  \n",
            "dtypes: float64(3), int64(3), object(9)\n",
            "memory usage: 1.2+ MB\n"
          ],
          "name": "stdout"
        }
      ]
    },
    {
      "cell_type": "markdown",
      "metadata": {
        "id": "Kua-R06ox8eZ"
      },
      "source": [
        "# *Now our Data looks better. We will analize each factors affecting our primary factor ('Rating') or measure for success('Installs') in deep. For 'Review' we already have seen our other set of data.*"
      ]
    },
    {
      "cell_type": "markdown",
      "metadata": {
        "id": "65aHD_57PmsT"
      },
      "source": [
        "# *Starting with type of apps.*"
      ]
    },
    {
      "cell_type": "code",
      "metadata": {
        "id": "Y1Tcp6vbxzPB",
        "outputId": "11d27cb2-352f-4004-d996-43bede7056d9",
        "colab": {
          "base_uri": "https://localhost:8080/",
          "height": 111
        }
      },
      "source": [
        "temp=pd.DataFrame(apps_df['Type'].value_counts())\n",
        "temp"
      ],
      "execution_count": null,
      "outputs": [
        {
          "output_type": "execute_result",
          "data": {
            "text/html": [
              "<div>\n",
              "<style scoped>\n",
              "    .dataframe tbody tr th:only-of-type {\n",
              "        vertical-align: middle;\n",
              "    }\n",
              "\n",
              "    .dataframe tbody tr th {\n",
              "        vertical-align: top;\n",
              "    }\n",
              "\n",
              "    .dataframe thead th {\n",
              "        text-align: right;\n",
              "    }\n",
              "</style>\n",
              "<table border=\"1\" class=\"dataframe\">\n",
              "  <thead>\n",
              "    <tr style=\"text-align: right;\">\n",
              "      <th></th>\n",
              "      <th>Type</th>\n",
              "    </tr>\n",
              "  </thead>\n",
              "  <tbody>\n",
              "    <tr>\n",
              "      <th>Free</th>\n",
              "      <td>8895</td>\n",
              "    </tr>\n",
              "    <tr>\n",
              "      <th>Paid</th>\n",
              "      <td>753</td>\n",
              "    </tr>\n",
              "  </tbody>\n",
              "</table>\n",
              "</div>"
            ],
            "text/plain": [
              "      Type\n",
              "Free  8895\n",
              "Paid   753"
            ]
          },
          "metadata": {
            "tags": []
          },
          "execution_count": 305
        }
      ]
    },
    {
      "cell_type": "code",
      "metadata": {
        "id": "Bqfw31fYy3ME",
        "outputId": "6676e5e3-eba5-48fa-970a-0a7ed5319460",
        "colab": {
          "base_uri": "https://localhost:8080/",
          "height": 337
        }
      },
      "source": [
        "sns.barplot(x=temp.index,y=temp['Type'])"
      ],
      "execution_count": null,
      "outputs": [
        {
          "output_type": "execute_result",
          "data": {
            "text/plain": [
              "<matplotlib.axes._subplots.AxesSubplot at 0x7fe726e179b0>"
            ]
          },
          "metadata": {
            "tags": []
          },
          "execution_count": 306
        },
        {
          "output_type": "display_data",
          "data": {
            "image/png": "[encoded data removed]",
            "text/plain": [
              "<Figure size 576x360 with 1 Axes>"
            ]
          },
          "metadata": {
            "tags": [],
            "needs_background": "light"
          }
        }
      ]
    },
    {
      "cell_type": "markdown",
      "metadata": {
        "id": "L5s5aAzh5RRS"
      },
      "source": [
        "# *Outcome - There are very few apps that are paid and so we should consider both in seperate way. If we consider all togather, might happen that final resultant has no idea on paid apps or doesn't include any paid apps. So we will not be able to give any conclusion is developer wants to go for developing paid apps.*"
      ]
    },
    {
      "cell_type": "markdown",
      "metadata": {
        "id": "AsUtfLtkzm5c"
      },
      "source": [
        "# *Checking 'Content Rating' and will try to relate with 'Ratings'*"
      ]
    },
    {
      "cell_type": "code",
      "metadata": {
        "id": "RMZokNuB0tFn",
        "outputId": "df46efc3-e629-4c94-ee56-23b43e44085a",
        "colab": {
          "base_uri": "https://localhost:8080/"
        }
      },
      "source": [
        "apps_df['Content Rating'].value_counts()"
      ],
      "execution_count": null,
      "outputs": [
        {
          "output_type": "execute_result",
          "data": {
            "text/plain": [
              "Everyone           7893\n",
              "Teen               1036\n",
              "Mature 17+          393\n",
              "Everyone 10+        321\n",
              "Adults only 18+       3\n",
              "Unrated               2\n",
              "Name: Content Rating, dtype: int64"
            ]
          },
          "metadata": {
            "tags": []
          },
          "execution_count": 308
        }
      ]
    },
    {
      "cell_type": "code",
      "metadata": {
        "id": "9iB3fUWyzvjX",
        "outputId": "e9ce8a37-660d-4be5-faad-0b4d19678ba1",
        "colab": {
          "base_uri": "https://localhost:8080/",
          "height": 266
        }
      },
      "source": [
        "temp=pd.DataFrame(apps_df.groupby('Content Rating').agg({'Rating':'mean'}))\n",
        "temp"
      ],
      "execution_count": null,
      "outputs": [
        {
          "output_type": "execute_result",
          "data": {
            "text/html": [
              "<div>\n",
              "<style scoped>\n",
              "    .dataframe tbody tr th:only-of-type {\n",
              "        vertical-align: middle;\n",
              "    }\n",
              "\n",
              "    .dataframe tbody tr th {\n",
              "        vertical-align: top;\n",
              "    }\n",
              "\n",
              "    .dataframe thead th {\n",
              "        text-align: right;\n",
              "    }\n",
              "</style>\n",
              "<table border=\"1\" class=\"dataframe\">\n",
              "  <thead>\n",
              "    <tr style=\"text-align: right;\">\n",
              "      <th></th>\n",
              "      <th>Rating</th>\n",
              "    </tr>\n",
              "    <tr>\n",
              "      <th>Content Rating</th>\n",
              "      <th></th>\n",
              "    </tr>\n",
              "  </thead>\n",
              "  <tbody>\n",
              "    <tr>\n",
              "      <th>Adults only 18+</th>\n",
              "      <td>4.300000</td>\n",
              "    </tr>\n",
              "    <tr>\n",
              "      <th>Everyone</th>\n",
              "      <td>3.490219</td>\n",
              "    </tr>\n",
              "    <tr>\n",
              "      <th>Everyone 10+</th>\n",
              "      <td>4.015265</td>\n",
              "    </tr>\n",
              "    <tr>\n",
              "      <th>Mature 17+</th>\n",
              "      <td>3.744275</td>\n",
              "    </tr>\n",
              "    <tr>\n",
              "      <th>Teen</th>\n",
              "      <td>3.719884</td>\n",
              "    </tr>\n",
              "    <tr>\n",
              "      <th>Unrated</th>\n",
              "      <td>2.050000</td>\n",
              "    </tr>\n",
              "  </tbody>\n",
              "</table>\n",
              "</div>"
            ],
            "text/plain": [
              "                   Rating\n",
              "Content Rating           \n",
              "Adults only 18+  4.300000\n",
              "Everyone         3.490219\n",
              "Everyone 10+     4.015265\n",
              "Mature 17+       3.744275\n",
              "Teen             3.719884\n",
              "Unrated          2.050000"
            ]
          },
          "metadata": {
            "tags": []
          },
          "execution_count": 309
        }
      ]
    },
    {
      "cell_type": "code",
      "metadata": {
        "id": "85jGcz-Xzu-1",
        "outputId": "edf2e8be-e485-4c67-cb24-8b49df6bd677",
        "colab": {
          "base_uri": "https://localhost:8080/",
          "height": 351
        }
      },
      "source": [
        "sns.barplot(y=temp.index,x=temp['Rating'])          #can even try with scatter plot."
      ],
      "execution_count": null,
      "outputs": [
        {
          "output_type": "execute_result",
          "data": {
            "text/plain": [
              "<matplotlib.axes._subplots.AxesSubplot at 0x7fe726e175c0>"
            ]
          },
          "metadata": {
            "tags": []
          },
          "execution_count": 310
        },
        {
          "output_type": "display_data",
          "data": {
            "image/png": "[encoded data removed]",
            "text/plain": [
              "<Figure size 576x360 with 1 Axes>"
            ]
          },
          "metadata": {
            "tags": [],
            "needs_background": "light"
          }
        }
      ]
    },
    {
      "cell_type": "markdown",
      "metadata": {
        "id": "_WH88Odl4VZs"
      },
      "source": [
        "# *Outcome - Rating by each group is almost more than average(above 3.5)*"
      ]
    },
    {
      "cell_type": "markdown",
      "metadata": {
        "id": "eRqcdze6xHgi"
      },
      "source": [
        "# Final Strategy :\n",
        "\n",
        "*   Checking paid and free apps.\n",
        "\n",
        "1.   There are comparitively less paid apps. Can make conclusion easily with that.\n",
        "2.   Get most installed apps. Sanity check its ratings, reviews and other factors. Make a conclusion based on its Catagory. Like this sort of catagory are success if even developer wants to go for paid apps.\n",
        "\n",
        "*   Then going with free apps. We can check how frequent app is updated. \n",
        "\n",
        "1.   If there is no update since long we can make a conclusion that those are may be not be in service. Even will check those but would be less prefered.\n",
        "2.   Will move forward with apps those are frequently updated.\n",
        "\n",
        "*   Free apps with frequent updates.\n",
        "\n",
        "1.   Will further divide this in 4 DF based on their installs. \n",
        "2.   Can get which catagory is good in all groups based on ratings, reviews and size.\n",
        "3. This will also lead us to which catagory has less success in current market.\n",
        "\n",
        "*   Free apps with less updates ( for not updated within 2 years)\n",
        "\n",
        "1.   Will directly get catagories of them based on high installs and check its revies, ratings and size.\n",
        "\n",
        "\n",
        "* We will be having 3 good conclusions.\n",
        "1. Paid apps. \n",
        "2. For free apps. \n",
        "3. For free outdated apps."
      ]
    },
    {
      "cell_type": "markdown",
      "metadata": {
        "id": "IdQY35YjadIL"
      },
      "source": [
        "# *Let's check successful paid apps*"
      ]
    },
    {
      "cell_type": "code",
      "metadata": {
        "id": "L88wIFy2tTg0"
      },
      "source": [
        "#selecting paid apps\n",
        "paid_apps_df=apps_df[apps_df['Type']=='Paid']"
      ],
      "execution_count": null,
      "outputs": []
    },
    {
      "cell_type": "code",
      "metadata": {
        "id": "kVvWVEpkSh3o",
        "outputId": "e8c29fd4-9329-4e39-b89c-ca68eecf4266",
        "colab": {
          "base_uri": "https://localhost:8080/"
        }
      },
      "source": [
        "paid_apps_df.sort_values(by=['Installs','Rating'],ascending=[False,False],inplace=True)"
      ],
      "execution_count": null,
      "outputs": [
        {
          "output_type": "stream",
          "text": [
            "/usr/local/lib/python3.6/dist-packages/ipykernel_launcher.py:1: SettingWithCopyWarning: \n",
            "A value is trying to be set on a copy of a slice from a DataFrame\n",
            "\n",
            "See the caveats in the documentation: https://pandas.pydata.org/pandas-docs/stable/user_guide/indexing.html#returning-a-view-versus-a-copy\n",
            "  \"\"\"Entry point for launching an IPython kernel.\n"
          ],
          "name": "stderr"
        }
      ]
    },
    {
      "cell_type": "code",
      "metadata": {
        "id": "mWqlkPNkV4rq",
        "outputId": "06fd5531-b1a1-41a2-d35f-f54a74c6386b",
        "colab": {
          "base_uri": "https://localhost:8080/",
          "height": 694
        }
      },
      "source": [
        "paid_apps_df"
      ],
      "execution_count": null,
      "outputs": [
        {
          "output_type": "execute_result",
          "data": {
            "text/html": [
              "<div>\n",
              "<style scoped>\n",
              "    .dataframe tbody tr th:only-of-type {\n",
              "        vertical-align: middle;\n",
              "    }\n",
              "\n",
              "    .dataframe tbody tr th {\n",
              "        vertical-align: top;\n",
              "    }\n",
              "\n",
              "    .dataframe thead th {\n",
              "        text-align: right;\n",
              "    }\n",
              "</style>\n",
              "<table border=\"1\" class=\"dataframe\">\n",
              "  <thead>\n",
              "    <tr style=\"text-align: right;\">\n",
              "      <th></th>\n",
              "      <th>App</th>\n",
              "      <th>Category</th>\n",
              "      <th>Rating</th>\n",
              "      <th>Reviews</th>\n",
              "      <th>Size</th>\n",
              "      <th>Installs</th>\n",
              "      <th>Type</th>\n",
              "      <th>Price</th>\n",
              "      <th>Content Rating</th>\n",
              "      <th>Genres</th>\n",
              "      <th>Last Updated</th>\n",
              "      <th>Current Ver</th>\n",
              "      <th>Android Ver</th>\n",
              "      <th>Size_in_kb</th>\n",
              "      <th>updation_year</th>\n",
              "    </tr>\n",
              "  </thead>\n",
              "  <tbody>\n",
              "    <tr>\n",
              "      <th>4034</th>\n",
              "      <td>Hitman Sniper</td>\n",
              "      <td>GAME</td>\n",
              "      <td>4.6</td>\n",
              "      <td>408292</td>\n",
              "      <td>29M</td>\n",
              "      <td>10000000</td>\n",
              "      <td>Paid</td>\n",
              "      <td>0.99</td>\n",
              "      <td>Mature 17+</td>\n",
              "      <td>Action</td>\n",
              "      <td>July 12, 2018</td>\n",
              "      <td>1.7.110758</td>\n",
              "      <td>4.1 and up</td>\n",
              "      <td>29000.0</td>\n",
              "      <td>2018</td>\n",
              "    </tr>\n",
              "    <tr>\n",
              "      <th>2241</th>\n",
              "      <td>Minecraft</td>\n",
              "      <td>FAMILY</td>\n",
              "      <td>4.5</td>\n",
              "      <td>2376564</td>\n",
              "      <td>Varies with device</td>\n",
              "      <td>10000000</td>\n",
              "      <td>Paid</td>\n",
              "      <td>6.99</td>\n",
              "      <td>Everyone 10+</td>\n",
              "      <td>Arcade;Action &amp; Adventure</td>\n",
              "      <td>July 24, 2018</td>\n",
              "      <td>1.5.2.1</td>\n",
              "      <td>Varies with device</td>\n",
              "      <td>0.0</td>\n",
              "      <td>2018</td>\n",
              "    </tr>\n",
              "    <tr>\n",
              "      <th>9678</th>\n",
              "      <td>Where's My Water?</td>\n",
              "      <td>FAMILY</td>\n",
              "      <td>4.7</td>\n",
              "      <td>188740</td>\n",
              "      <td>69M</td>\n",
              "      <td>1000000</td>\n",
              "      <td>Paid</td>\n",
              "      <td>1.99</td>\n",
              "      <td>Everyone</td>\n",
              "      <td>Puzzle;Brain Games</td>\n",
              "      <td>July 5, 2018</td>\n",
              "      <td>1.16.0</td>\n",
              "      <td>4.2 and up</td>\n",
              "      <td>69000.0</td>\n",
              "      <td>2018</td>\n",
              "    </tr>\n",
              "    <tr>\n",
              "      <th>4260</th>\n",
              "      <td>Cut the Rope GOLD</td>\n",
              "      <td>FAMILY</td>\n",
              "      <td>4.6</td>\n",
              "      <td>61264</td>\n",
              "      <td>43M</td>\n",
              "      <td>1000000</td>\n",
              "      <td>Paid</td>\n",
              "      <td>0.99</td>\n",
              "      <td>Everyone</td>\n",
              "      <td>Puzzle</td>\n",
              "      <td>June 19, 2018</td>\n",
              "      <td>3.7.0</td>\n",
              "      <td>4.1 and up</td>\n",
              "      <td>43000.0</td>\n",
              "      <td>2018</td>\n",
              "    </tr>\n",
              "    <tr>\n",
              "      <th>5631</th>\n",
              "      <td>Five Nights at Freddy's</td>\n",
              "      <td>GAME</td>\n",
              "      <td>4.6</td>\n",
              "      <td>100805</td>\n",
              "      <td>50M</td>\n",
              "      <td>1000000</td>\n",
              "      <td>Paid</td>\n",
              "      <td>2.99</td>\n",
              "      <td>Teen</td>\n",
              "      <td>Action</td>\n",
              "      <td>December 2, 2014</td>\n",
              "      <td>1.85</td>\n",
              "      <td>2.3 and up</td>\n",
              "      <td>50000.0</td>\n",
              "      <td>2014</td>\n",
              "    </tr>\n",
              "    <tr>\n",
              "      <th>...</th>\n",
              "      <td>...</td>\n",
              "      <td>...</td>\n",
              "      <td>...</td>\n",
              "      <td>...</td>\n",
              "      <td>...</td>\n",
              "      <td>...</td>\n",
              "      <td>...</td>\n",
              "      <td>...</td>\n",
              "      <td>...</td>\n",
              "      <td>...</td>\n",
              "      <td>...</td>\n",
              "      <td>...</td>\n",
              "      <td>...</td>\n",
              "      <td>...</td>\n",
              "      <td>...</td>\n",
              "    </tr>\n",
              "    <tr>\n",
              "      <th>9337</th>\n",
              "      <td>EG | Explore Folegandros</td>\n",
              "      <td>TRAVEL_AND_LOCAL</td>\n",
              "      <td>0.0</td>\n",
              "      <td>0</td>\n",
              "      <td>56M</td>\n",
              "      <td>0</td>\n",
              "      <td>Paid</td>\n",
              "      <td>3.99</td>\n",
              "      <td>Everyone</td>\n",
              "      <td>Travel &amp; Local</td>\n",
              "      <td>January 22, 2017</td>\n",
              "      <td>1.1.1</td>\n",
              "      <td>4.1 and up</td>\n",
              "      <td>56000.0</td>\n",
              "      <td>2017</td>\n",
              "    </tr>\n",
              "    <tr>\n",
              "      <th>9719</th>\n",
              "      <td>EP Cook Book</td>\n",
              "      <td>MEDICAL</td>\n",
              "      <td>0.0</td>\n",
              "      <td>0</td>\n",
              "      <td>3.2M</td>\n",
              "      <td>0</td>\n",
              "      <td>Paid</td>\n",
              "      <td>200.00</td>\n",
              "      <td>Everyone</td>\n",
              "      <td>Medical</td>\n",
              "      <td>July 26, 2015</td>\n",
              "      <td>1.0</td>\n",
              "      <td>3.0 and up</td>\n",
              "      <td>3200.0</td>\n",
              "      <td>2015</td>\n",
              "    </tr>\n",
              "    <tr>\n",
              "      <th>9905</th>\n",
              "      <td>Eu sou Rico</td>\n",
              "      <td>FINANCE</td>\n",
              "      <td>0.0</td>\n",
              "      <td>0</td>\n",
              "      <td>2.6M</td>\n",
              "      <td>0</td>\n",
              "      <td>Paid</td>\n",
              "      <td>30.99</td>\n",
              "      <td>Everyone</td>\n",
              "      <td>Finance</td>\n",
              "      <td>January 9, 2018</td>\n",
              "      <td>1.0</td>\n",
              "      <td>4.0 and up</td>\n",
              "      <td>2600.0</td>\n",
              "      <td>2018</td>\n",
              "    </tr>\n",
              "    <tr>\n",
              "      <th>9917</th>\n",
              "      <td>Eu Sou Rico</td>\n",
              "      <td>FINANCE</td>\n",
              "      <td>0.0</td>\n",
              "      <td>0</td>\n",
              "      <td>1.4M</td>\n",
              "      <td>0</td>\n",
              "      <td>Paid</td>\n",
              "      <td>394.99</td>\n",
              "      <td>Everyone</td>\n",
              "      <td>Finance</td>\n",
              "      <td>July 11, 2018</td>\n",
              "      <td>1.0</td>\n",
              "      <td>4.0.3 and up</td>\n",
              "      <td>1400.0</td>\n",
              "      <td>2018</td>\n",
              "    </tr>\n",
              "    <tr>\n",
              "      <th>9934</th>\n",
              "      <td>I'm Rich/Eu sou Rico/أنا غني/我很有錢</td>\n",
              "      <td>LIFESTYLE</td>\n",
              "      <td>0.0</td>\n",
              "      <td>0</td>\n",
              "      <td>40M</td>\n",
              "      <td>0</td>\n",
              "      <td>Paid</td>\n",
              "      <td>399.99</td>\n",
              "      <td>Everyone</td>\n",
              "      <td>Lifestyle</td>\n",
              "      <td>December 1, 2017</td>\n",
              "      <td>MONEY</td>\n",
              "      <td>4.1 and up</td>\n",
              "      <td>40000.0</td>\n",
              "      <td>2017</td>\n",
              "    </tr>\n",
              "  </tbody>\n",
              "</table>\n",
              "<p>753 rows × 15 columns</p>\n",
              "</div>"
            ],
            "text/plain": [
              "                                    App  ... updation_year\n",
              "4034                      Hitman Sniper  ...          2018\n",
              "2241                          Minecraft  ...          2018\n",
              "9678                  Where's My Water?  ...          2018\n",
              "4260                  Cut the Rope GOLD  ...          2018\n",
              "5631            Five Nights at Freddy's  ...          2014\n",
              "...                                 ...  ...           ...\n",
              "9337           EG | Explore Folegandros  ...          2017\n",
              "9719                       EP Cook Book  ...          2015\n",
              "9905                        Eu sou Rico  ...          2018\n",
              "9917                        Eu Sou Rico  ...          2018\n",
              "9934  I'm Rich/Eu sou Rico/أنا غني/我很有錢  ...          2017\n",
              "\n",
              "[753 rows x 15 columns]"
            ]
          },
          "metadata": {
            "tags": []
          },
          "execution_count": 314
        }
      ]
    },
    {
      "cell_type": "code",
      "metadata": {
        "id": "kPU1aLD6tTST"
      },
      "source": [
        "#Most success apps \n",
        "temp1=paid_apps_df.head(200)"
      ],
      "execution_count": null,
      "outputs": []
    },
    {
      "cell_type": "code",
      "metadata": {
        "id": "CuY2JXdKdIrI",
        "outputId": "10986b04-0017-46a0-875b-3b42e7d1d5f4",
        "colab": {
          "base_uri": "https://localhost:8080/",
          "height": 340
        }
      },
      "source": [
        "temp1['Positive Sentiments']=temp1['App'].apply(count_psentiments)"
      ],
      "execution_count": null,
      "outputs": [
        {
          "output_type": "error",
          "ename": "KeyboardInterrupt",
          "evalue": "ignored",
          "traceback": [
            "\u001b[0;31m---------------------------------------------------------------------------\u001b[0m",
            "\u001b[0;31mKeyboardInterrupt\u001b[0m                         Traceback (most recent call last)",
            "\u001b[0;32m<ipython-input-316-363cceb463be>\u001b[0m in \u001b[0;36m<module>\u001b[0;34m()\u001b[0m\n\u001b[0;32m----> 1\u001b[0;31m \u001b[0mtemp1\u001b[0m\u001b[0;34m[\u001b[0m\u001b[0;34m'Positive Sentiments'\u001b[0m\u001b[0;34m]\u001b[0m\u001b[0;34m=\u001b[0m\u001b[0mtemp1\u001b[0m\u001b[0;34m[\u001b[0m\u001b[0;34m'App'\u001b[0m\u001b[0;34m]\u001b[0m\u001b[0;34m.\u001b[0m\u001b[0mapply\u001b[0m\u001b[0;34m(\u001b[0m\u001b[0mcount_psentiments\u001b[0m\u001b[0;34m)\u001b[0m\u001b[0;34m\u001b[0m\u001b[0;34m\u001b[0m\u001b[0m\n\u001b[0m",
            "\u001b[0;32m/usr/local/lib/python3.6/dist-packages/pandas/core/series.py\u001b[0m in \u001b[0;36mapply\u001b[0;34m(self, func, convert_dtype, args, **kwds)\u001b[0m\n\u001b[1;32m   4210\u001b[0m             \u001b[0;32melse\u001b[0m\u001b[0;34m:\u001b[0m\u001b[0;34m\u001b[0m\u001b[0;34m\u001b[0m\u001b[0m\n\u001b[1;32m   4211\u001b[0m                 \u001b[0mvalues\u001b[0m \u001b[0;34m=\u001b[0m \u001b[0mself\u001b[0m\u001b[0;34m.\u001b[0m\u001b[0mastype\u001b[0m\u001b[0;34m(\u001b[0m\u001b[0mobject\u001b[0m\u001b[0;34m)\u001b[0m\u001b[0;34m.\u001b[0m\u001b[0m_values\u001b[0m\u001b[0;34m\u001b[0m\u001b[0;34m\u001b[0m\u001b[0m\n\u001b[0;32m-> 4212\u001b[0;31m                 \u001b[0mmapped\u001b[0m \u001b[0;34m=\u001b[0m \u001b[0mlib\u001b[0m\u001b[0;34m.\u001b[0m\u001b[0mmap_infer\u001b[0m\u001b[0;34m(\u001b[0m\u001b[0mvalues\u001b[0m\u001b[0;34m,\u001b[0m \u001b[0mf\u001b[0m\u001b[0;34m,\u001b[0m \u001b[0mconvert\u001b[0m\u001b[0;34m=\u001b[0m\u001b[0mconvert_dtype\u001b[0m\u001b[0;34m)\u001b[0m\u001b[0;34m\u001b[0m\u001b[0;34m\u001b[0m\u001b[0m\n\u001b[0m\u001b[1;32m   4213\u001b[0m \u001b[0;34m\u001b[0m\u001b[0m\n\u001b[1;32m   4214\u001b[0m         \u001b[0;32mif\u001b[0m \u001b[0mlen\u001b[0m\u001b[0;34m(\u001b[0m\u001b[0mmapped\u001b[0m\u001b[0;34m)\u001b[0m \u001b[0;32mand\u001b[0m \u001b[0misinstance\u001b[0m\u001b[0;34m(\u001b[0m\u001b[0mmapped\u001b[0m\u001b[0;34m[\u001b[0m\u001b[0;36m0\u001b[0m\u001b[0;34m]\u001b[0m\u001b[0;34m,\u001b[0m \u001b[0mSeries\u001b[0m\u001b[0;34m)\u001b[0m\u001b[0;34m:\u001b[0m\u001b[0;34m\u001b[0m\u001b[0;34m\u001b[0m\u001b[0m\n",
            "\u001b[0;32mpandas/_libs/lib.pyx\u001b[0m in \u001b[0;36mpandas._libs.lib.map_infer\u001b[0;34m()\u001b[0m\n",
            "\u001b[0;32m<ipython-input-284-f9a9e0d45a73>\u001b[0m in \u001b[0;36mcount_psentiments\u001b[0;34m(string)\u001b[0m\n\u001b[1;32m      1\u001b[0m \u001b[0;32mdef\u001b[0m \u001b[0mcount_psentiments\u001b[0m\u001b[0;34m(\u001b[0m\u001b[0mstring\u001b[0m\u001b[0;34m)\u001b[0m\u001b[0;34m:\u001b[0m\u001b[0;34m\u001b[0m\u001b[0;34m\u001b[0m\u001b[0m\n\u001b[1;32m      2\u001b[0m   \u001b[0mcount\u001b[0m\u001b[0;34m=\u001b[0m\u001b[0;36m0\u001b[0m\u001b[0;34m\u001b[0m\u001b[0;34m\u001b[0m\u001b[0m\n\u001b[0;32m----> 3\u001b[0;31m   \u001b[0;32mfor\u001b[0m \u001b[0mindex\u001b[0m\u001b[0;34m,\u001b[0m\u001b[0mrow\u001b[0m \u001b[0;32min\u001b[0m \u001b[0mnew_user_df\u001b[0m\u001b[0;34m.\u001b[0m\u001b[0miterrows\u001b[0m\u001b[0;34m(\u001b[0m\u001b[0;34m)\u001b[0m\u001b[0;34m:\u001b[0m\u001b[0;34m\u001b[0m\u001b[0;34m\u001b[0m\u001b[0m\n\u001b[0m\u001b[1;32m      4\u001b[0m     \u001b[0;32mif\u001b[0m \u001b[0mrow\u001b[0m\u001b[0;34m[\u001b[0m\u001b[0;34m'App'\u001b[0m\u001b[0;34m]\u001b[0m\u001b[0;34m==\u001b[0m\u001b[0mstring\u001b[0m\u001b[0;34m:\u001b[0m\u001b[0;34m\u001b[0m\u001b[0;34m\u001b[0m\u001b[0m\n\u001b[1;32m      5\u001b[0m       \u001b[0;32mif\u001b[0m \u001b[0mrow\u001b[0m\u001b[0;34m[\u001b[0m\u001b[0;34m'Sentiment'\u001b[0m\u001b[0;34m]\u001b[0m\u001b[0;34m==\u001b[0m\u001b[0;34m'Positive'\u001b[0m\u001b[0;34m:\u001b[0m\u001b[0;34m\u001b[0m\u001b[0;34m\u001b[0m\u001b[0m\n",
            "\u001b[0;32m/usr/local/lib/python3.6/dist-packages/pandas/core/frame.py\u001b[0m in \u001b[0;36miterrows\u001b[0;34m(self)\u001b[0m\n\u001b[1;32m   1012\u001b[0m         \u001b[0mklass\u001b[0m \u001b[0;34m=\u001b[0m \u001b[0mself\u001b[0m\u001b[0;34m.\u001b[0m\u001b[0m_constructor_sliced\u001b[0m\u001b[0;34m\u001b[0m\u001b[0;34m\u001b[0m\u001b[0m\n\u001b[1;32m   1013\u001b[0m         \u001b[0;32mfor\u001b[0m \u001b[0mk\u001b[0m\u001b[0;34m,\u001b[0m \u001b[0mv\u001b[0m \u001b[0;32min\u001b[0m \u001b[0mzip\u001b[0m\u001b[0;34m(\u001b[0m\u001b[0mself\u001b[0m\u001b[0;34m.\u001b[0m\u001b[0mindex\u001b[0m\u001b[0;34m,\u001b[0m \u001b[0mself\u001b[0m\u001b[0;34m.\u001b[0m\u001b[0mvalues\u001b[0m\u001b[0;34m)\u001b[0m\u001b[0;34m:\u001b[0m\u001b[0;34m\u001b[0m\u001b[0;34m\u001b[0m\u001b[0m\n\u001b[0;32m-> 1014\u001b[0;31m             \u001b[0ms\u001b[0m \u001b[0;34m=\u001b[0m \u001b[0mklass\u001b[0m\u001b[0;34m(\u001b[0m\u001b[0mv\u001b[0m\u001b[0;34m,\u001b[0m \u001b[0mindex\u001b[0m\u001b[0;34m=\u001b[0m\u001b[0mcolumns\u001b[0m\u001b[0;34m,\u001b[0m \u001b[0mname\u001b[0m\u001b[0;34m=\u001b[0m\u001b[0mk\u001b[0m\u001b[0;34m)\u001b[0m\u001b[0;34m\u001b[0m\u001b[0;34m\u001b[0m\u001b[0m\n\u001b[0m\u001b[1;32m   1015\u001b[0m             \u001b[0;32myield\u001b[0m \u001b[0mk\u001b[0m\u001b[0;34m,\u001b[0m \u001b[0ms\u001b[0m\u001b[0;34m\u001b[0m\u001b[0;34m\u001b[0m\u001b[0m\n\u001b[1;32m   1016\u001b[0m \u001b[0;34m\u001b[0m\u001b[0m\n",
            "\u001b[0;32m/usr/local/lib/python3.6/dist-packages/pandas/core/series.py\u001b[0m in \u001b[0;36m__init__\u001b[0;34m(self, data, index, dtype, name, copy, fastpath)\u001b[0m\n\u001b[1;32m    327\u001b[0m                 \u001b[0mdata\u001b[0m \u001b[0;34m=\u001b[0m \u001b[0msanitize_array\u001b[0m\u001b[0;34m(\u001b[0m\u001b[0mdata\u001b[0m\u001b[0;34m,\u001b[0m \u001b[0mindex\u001b[0m\u001b[0;34m,\u001b[0m \u001b[0mdtype\u001b[0m\u001b[0;34m,\u001b[0m \u001b[0mcopy\u001b[0m\u001b[0;34m,\u001b[0m \u001b[0mraise_cast_failure\u001b[0m\u001b[0;34m=\u001b[0m\u001b[0;32mTrue\u001b[0m\u001b[0;34m)\u001b[0m\u001b[0;34m\u001b[0m\u001b[0;34m\u001b[0m\u001b[0m\n\u001b[1;32m    328\u001b[0m \u001b[0;34m\u001b[0m\u001b[0m\n\u001b[0;32m--> 329\u001b[0;31m                 \u001b[0mdata\u001b[0m \u001b[0;34m=\u001b[0m \u001b[0mSingleBlockManager\u001b[0m\u001b[0;34m.\u001b[0m\u001b[0mfrom_array\u001b[0m\u001b[0;34m(\u001b[0m\u001b[0mdata\u001b[0m\u001b[0;34m,\u001b[0m \u001b[0mindex\u001b[0m\u001b[0;34m)\u001b[0m\u001b[0;34m\u001b[0m\u001b[0;34m\u001b[0m\u001b[0m\n\u001b[0m\u001b[1;32m    330\u001b[0m \u001b[0;34m\u001b[0m\u001b[0m\n\u001b[1;32m    331\u001b[0m         \u001b[0mgeneric\u001b[0m\u001b[0;34m.\u001b[0m\u001b[0mNDFrame\u001b[0m\u001b[0;34m.\u001b[0m\u001b[0m__init__\u001b[0m\u001b[0;34m(\u001b[0m\u001b[0mself\u001b[0m\u001b[0;34m,\u001b[0m \u001b[0mdata\u001b[0m\u001b[0;34m)\u001b[0m\u001b[0;34m\u001b[0m\u001b[0;34m\u001b[0m\u001b[0m\n",
            "\u001b[0;32m/usr/local/lib/python3.6/dist-packages/pandas/core/internals/managers.py\u001b[0m in \u001b[0;36mfrom_array\u001b[0;34m(cls, array, index)\u001b[0m\n\u001b[1;32m   1568\u001b[0m         \"\"\"\n\u001b[1;32m   1569\u001b[0m         \u001b[0mblock\u001b[0m \u001b[0;34m=\u001b[0m \u001b[0mmake_block\u001b[0m\u001b[0;34m(\u001b[0m\u001b[0marray\u001b[0m\u001b[0;34m,\u001b[0m \u001b[0mplacement\u001b[0m\u001b[0;34m=\u001b[0m\u001b[0mslice\u001b[0m\u001b[0;34m(\u001b[0m\u001b[0;36m0\u001b[0m\u001b[0;34m,\u001b[0m \u001b[0mlen\u001b[0m\u001b[0;34m(\u001b[0m\u001b[0mindex\u001b[0m\u001b[0;34m)\u001b[0m\u001b[0;34m)\u001b[0m\u001b[0;34m,\u001b[0m \u001b[0mndim\u001b[0m\u001b[0;34m=\u001b[0m\u001b[0;36m1\u001b[0m\u001b[0;34m)\u001b[0m\u001b[0;34m\u001b[0m\u001b[0;34m\u001b[0m\u001b[0m\n\u001b[0;32m-> 1570\u001b[0;31m         \u001b[0;32mreturn\u001b[0m \u001b[0mcls\u001b[0m\u001b[0;34m(\u001b[0m\u001b[0mblock\u001b[0m\u001b[0;34m,\u001b[0m \u001b[0mindex\u001b[0m\u001b[0;34m)\u001b[0m\u001b[0;34m\u001b[0m\u001b[0;34m\u001b[0m\u001b[0m\n\u001b[0m\u001b[1;32m   1571\u001b[0m \u001b[0;34m\u001b[0m\u001b[0m\n\u001b[1;32m   1572\u001b[0m     \u001b[0;32mdef\u001b[0m \u001b[0m_post_setstate\u001b[0m\u001b[0;34m(\u001b[0m\u001b[0mself\u001b[0m\u001b[0;34m)\u001b[0m\u001b[0;34m:\u001b[0m\u001b[0;34m\u001b[0m\u001b[0;34m\u001b[0m\u001b[0m\n",
            "\u001b[0;32m/usr/local/lib/python3.6/dist-packages/pandas/core/internals/managers.py\u001b[0m in \u001b[0;36m__init__\u001b[0;34m(self, block, axis, do_integrity_check, fastpath)\u001b[0m\n\u001b[1;32m   1537\u001b[0m         \u001b[0mfastpath\u001b[0m\u001b[0;34m=\u001b[0m\u001b[0mlib\u001b[0m\u001b[0;34m.\u001b[0m\u001b[0mno_default\u001b[0m\u001b[0;34m,\u001b[0m\u001b[0;34m\u001b[0m\u001b[0;34m\u001b[0m\u001b[0m\n\u001b[1;32m   1538\u001b[0m     ):\n\u001b[0;32m-> 1539\u001b[0;31m         \u001b[0;32massert\u001b[0m \u001b[0misinstance\u001b[0m\u001b[0;34m(\u001b[0m\u001b[0mblock\u001b[0m\u001b[0;34m,\u001b[0m \u001b[0mBlock\u001b[0m\u001b[0;34m)\u001b[0m\u001b[0;34m,\u001b[0m \u001b[0mtype\u001b[0m\u001b[0;34m(\u001b[0m\u001b[0mblock\u001b[0m\u001b[0;34m)\u001b[0m\u001b[0;34m\u001b[0m\u001b[0;34m\u001b[0m\u001b[0m\n\u001b[0m\u001b[1;32m   1540\u001b[0m         \u001b[0;32massert\u001b[0m \u001b[0misinstance\u001b[0m\u001b[0;34m(\u001b[0m\u001b[0maxis\u001b[0m\u001b[0;34m,\u001b[0m \u001b[0mIndex\u001b[0m\u001b[0;34m)\u001b[0m\u001b[0;34m,\u001b[0m \u001b[0mtype\u001b[0m\u001b[0;34m(\u001b[0m\u001b[0maxis\u001b[0m\u001b[0;34m)\u001b[0m\u001b[0;34m\u001b[0m\u001b[0;34m\u001b[0m\u001b[0m\n\u001b[1;32m   1541\u001b[0m \u001b[0;34m\u001b[0m\u001b[0m\n",
            "\u001b[0;31mKeyboardInterrupt\u001b[0m: "
          ]
        }
      ]
    },
    {
      "cell_type": "code",
      "metadata": {
        "id": "ZnZtoYkJXzCM",
        "outputId": "928f4252-4c1b-4bee-bf34-7f4d72ba31fe",
        "colab": {
          "base_uri": "https://localhost:8080/",
          "height": 359
        }
      },
      "source": [
        "#which category is more succesfull in most success paid apps\n",
        "category_counts=pd.DataFrame(temp1['Category'].value_counts().head(10))\n",
        "category_counts"
      ],
      "execution_count": null,
      "outputs": [
        {
          "output_type": "execute_result",
          "data": {
            "text/html": [
              "<div>\n",
              "<style scoped>\n",
              "    .dataframe tbody tr th:only-of-type {\n",
              "        vertical-align: middle;\n",
              "    }\n",
              "\n",
              "    .dataframe tbody tr th {\n",
              "        vertical-align: top;\n",
              "    }\n",
              "\n",
              "    .dataframe thead th {\n",
              "        text-align: right;\n",
              "    }\n",
              "</style>\n",
              "<table border=\"1\" class=\"dataframe\">\n",
              "  <thead>\n",
              "    <tr style=\"text-align: right;\">\n",
              "      <th></th>\n",
              "      <th>Category</th>\n",
              "    </tr>\n",
              "  </thead>\n",
              "  <tbody>\n",
              "    <tr>\n",
              "      <th>FAMILY</th>\n",
              "      <td>58</td>\n",
              "    </tr>\n",
              "    <tr>\n",
              "      <th>GAME</th>\n",
              "      <td>40</td>\n",
              "    </tr>\n",
              "    <tr>\n",
              "      <th>PERSONALIZATION</th>\n",
              "      <td>16</td>\n",
              "    </tr>\n",
              "    <tr>\n",
              "      <th>MEDICAL</th>\n",
              "      <td>14</td>\n",
              "    </tr>\n",
              "    <tr>\n",
              "      <th>TOOLS</th>\n",
              "      <td>12</td>\n",
              "    </tr>\n",
              "    <tr>\n",
              "      <th>HEALTH_AND_FITNESS</th>\n",
              "      <td>8</td>\n",
              "    </tr>\n",
              "    <tr>\n",
              "      <th>PHOTOGRAPHY</th>\n",
              "      <td>7</td>\n",
              "    </tr>\n",
              "    <tr>\n",
              "      <th>PRODUCTIVITY</th>\n",
              "      <td>7</td>\n",
              "    </tr>\n",
              "    <tr>\n",
              "      <th>WEATHER</th>\n",
              "      <td>5</td>\n",
              "    </tr>\n",
              "    <tr>\n",
              "      <th>COMMUNICATION</th>\n",
              "      <td>5</td>\n",
              "    </tr>\n",
              "  </tbody>\n",
              "</table>\n",
              "</div>"
            ],
            "text/plain": [
              "                    Category\n",
              "FAMILY                    58\n",
              "GAME                      40\n",
              "PERSONALIZATION           16\n",
              "MEDICAL                   14\n",
              "TOOLS                     12\n",
              "HEALTH_AND_FITNESS         8\n",
              "PHOTOGRAPHY                7\n",
              "PRODUCTIVITY               7\n",
              "WEATHER                    5\n",
              "COMMUNICATION              5"
            ]
          },
          "metadata": {
            "tags": []
          },
          "execution_count": 183
        }
      ]
    },
    {
      "cell_type": "code",
      "metadata": {
        "id": "EhbfaG-8tTIB",
        "outputId": "ca3a85d6-2ae2-4a7a-926f-ad2045df41ab",
        "colab": {
          "base_uri": "https://localhost:8080/",
          "height": 921
        }
      },
      "source": [
        "plt.rcParams['figure.figsize'] = (10, 7)\n",
        "plt.pie(category_counts['Category'],labels=category_counts.index,autopct='%1.1f%%')"
      ],
      "execution_count": null,
      "outputs": [
        {
          "output_type": "execute_result",
          "data": {
            "text/plain": [
              "([<matplotlib.patches.Wedge at 0x7fe727f88a58>,\n",
              "  <matplotlib.patches.Wedge at 0x7fe727f95240>,\n",
              "  <matplotlib.patches.Wedge at 0x7fe727f959b0>,\n",
              "  <matplotlib.patches.Wedge at 0x7fe727f9f160>,\n",
              "  <matplotlib.patches.Wedge at 0x7fe727f9f8d0>,\n",
              "  <matplotlib.patches.Wedge at 0x7fe727fac048>,\n",
              "  <matplotlib.patches.Wedge at 0x7fe727fac7f0>,\n",
              "  <matplotlib.patches.Wedge at 0x7fe727facf60>,\n",
              "  <matplotlib.patches.Wedge at 0x7fe727fb7710>,\n",
              "  <matplotlib.patches.Wedge at 0x7fe727fb7e80>],\n",
              " [Text(0.5383595970851739, 0.959254368885693, 'FAMILY'),\n",
              "  Text(-1.0533606899154182, 0.3169089095322414, 'GAME'),\n",
              "  Text(-0.8192493171075442, -0.7340507859942816, 'PERSONALIZATION'),\n",
              "  Text(-0.31690888487655516, -1.0533606973332061, 'MEDICAL'),\n",
              "  Text(0.19980068092600142, -1.0817022177575057, 'TOOLS'),\n",
              "  Text(0.5730345099810952, -0.9389523152805613, 'HEALTH_AND_FITNESS'),\n",
              "  Text(0.8057061137576718, -0.7488909521776251, 'PHOTOGRAPHY'),\n",
              "  Text(0.9689270538080476, -0.5207498097924348, 'PRODUCTIVITY'),\n",
              "  Text(1.0589730484091515, -0.2976173428129297, 'WEATHER'),\n",
              "  Text(1.0954160259572059, -0.10031814430162639, 'COMMUNICATION')],\n",
              " [Text(0.2936506893191857, 0.5232296557558326, '33.7%'),\n",
              "  Text(-0.5745603763175008, 0.17285940519940438, '23.3%'),\n",
              "  Text(-0.4468632638768423, -0.40039133781506264, '9.3%'),\n",
              "  Text(-0.17285939175084827, -0.5745603803635669, '8.1%'),\n",
              "  Text(0.10898218959600077, -0.590019391504094, '7.0%'),\n",
              "  Text(0.3125642781715064, -0.5121558083348515, '4.7%'),\n",
              "  Text(0.43947606204963907, -0.4084859739150682, '4.1%'),\n",
              "  Text(0.5285056657134805, -0.28404535079587345, '4.1%'),\n",
              "  Text(0.577621662768628, -0.16233673244341615, '2.9%'),\n",
              "  Text(0.5974996505221123, -0.05471898780088712, '2.9%')])"
            ]
          },
          "metadata": {
            "tags": []
          },
          "execution_count": 181
        },
        {
          "output_type": "display_data",
          "data": {
            "image/png": "[encoded data removed]",
            "text/plain": [
              "<Figure size 720x504 with 1 Axes>"
            ]
          },
          "metadata": {
            "tags": []
          }
        }
      ]
    },
    {
      "cell_type": "code",
      "metadata": {
        "id": "D54J225mtTAC",
        "outputId": "800d1477-bd46-4f77-b6c2-f36843192e21",
        "colab": {
          "base_uri": "https://localhost:8080/",
          "height": 359
        }
      },
      "source": [
        "#can see sub catagories\n",
        "genres_counts=pd.DataFrame(temp1['Genres'].value_counts().head(10))\n",
        "genres_counts"
      ],
      "execution_count": null,
      "outputs": [
        {
          "output_type": "execute_result",
          "data": {
            "text/html": [
              "<div>\n",
              "<style scoped>\n",
              "    .dataframe tbody tr th:only-of-type {\n",
              "        vertical-align: middle;\n",
              "    }\n",
              "\n",
              "    .dataframe tbody tr th {\n",
              "        vertical-align: top;\n",
              "    }\n",
              "\n",
              "    .dataframe thead th {\n",
              "        text-align: right;\n",
              "    }\n",
              "</style>\n",
              "<table border=\"1\" class=\"dataframe\">\n",
              "  <thead>\n",
              "    <tr style=\"text-align: right;\">\n",
              "      <th></th>\n",
              "      <th>Genres</th>\n",
              "    </tr>\n",
              "  </thead>\n",
              "  <tbody>\n",
              "    <tr>\n",
              "      <th>Personalization</th>\n",
              "      <td>16</td>\n",
              "    </tr>\n",
              "    <tr>\n",
              "      <th>Role Playing</th>\n",
              "      <td>16</td>\n",
              "    </tr>\n",
              "    <tr>\n",
              "      <th>Action</th>\n",
              "      <td>16</td>\n",
              "    </tr>\n",
              "    <tr>\n",
              "      <th>Medical</th>\n",
              "      <td>14</td>\n",
              "    </tr>\n",
              "    <tr>\n",
              "      <th>Tools</th>\n",
              "      <td>12</td>\n",
              "    </tr>\n",
              "    <tr>\n",
              "      <th>Strategy</th>\n",
              "      <td>9</td>\n",
              "    </tr>\n",
              "    <tr>\n",
              "      <th>Puzzle</th>\n",
              "      <td>8</td>\n",
              "    </tr>\n",
              "    <tr>\n",
              "      <th>Health &amp; Fitness</th>\n",
              "      <td>8</td>\n",
              "    </tr>\n",
              "    <tr>\n",
              "      <th>Arcade</th>\n",
              "      <td>8</td>\n",
              "    </tr>\n",
              "    <tr>\n",
              "      <th>Photography</th>\n",
              "      <td>7</td>\n",
              "    </tr>\n",
              "  </tbody>\n",
              "</table>\n",
              "</div>"
            ],
            "text/plain": [
              "                  Genres\n",
              "Personalization       16\n",
              "Role Playing          16\n",
              "Action                16\n",
              "Medical               14\n",
              "Tools                 12\n",
              "Strategy               9\n",
              "Puzzle                 8\n",
              "Health & Fitness       8\n",
              "Arcade                 8\n",
              "Photography            7"
            ]
          },
          "metadata": {
            "tags": []
          },
          "execution_count": 185
        }
      ]
    },
    {
      "cell_type": "code",
      "metadata": {
        "id": "3LGgWNKRZ0m2",
        "outputId": "c4cccd32-db0c-4242-b592-ef44aefcdca5",
        "colab": {
          "base_uri": "https://localhost:8080/",
          "height": 921
        }
      },
      "source": [
        "plt.pie(genres_counts['Genres'],labels=genres_counts.index,autopct='%1.1f%%')"
      ],
      "execution_count": null,
      "outputs": [
        {
          "output_type": "execute_result",
          "data": {
            "text/plain": [
              "([<matplotlib.patches.Wedge at 0x7fe727f1e588>,\n",
              "  <matplotlib.patches.Wedge at 0x7fe727f1ed30>,\n",
              "  <matplotlib.patches.Wedge at 0x7fe727f2b4e0>,\n",
              "  <matplotlib.patches.Wedge at 0x7fe727f2bc50>,\n",
              "  <matplotlib.patches.Wedge at 0x7fe727f35400>,\n",
              "  <matplotlib.patches.Wedge at 0x7fe727f35b70>,\n",
              "  <matplotlib.patches.Wedge at 0x7fe727ec2320>,\n",
              "  <matplotlib.patches.Wedge at 0x7fe727ec2a90>,\n",
              "  <matplotlib.patches.Wedge at 0x7fe727ecb240>,\n",
              "  <matplotlib.patches.Wedge at 0x7fe727ecb9b0>],\n",
              " [Text(0.9947928752251085, 0.46945408231408725, 'Personalization'),\n",
              "  Text(0.2700340253456176, 1.06634029519457, 'Role Playing'),\n",
              "  Text(-0.6514587924903009, 0.886341605526379, 'Action'),\n",
              "  Text(-1.0933237477827822, 0.12100901840033106, 'Medical'),\n",
              "  Text(-0.9039555792454617, -0.6267888885031402, 'Tools'),\n",
              "  Text(-0.4139402882173783, -1.0191434824353802, 'Strategy'),\n",
              "  Text(0.09083729352452227, -1.0962429411882841, 'Puzzle'),\n",
              "  Text(0.5500000148652437, -0.9526279355804299, 'Health & Fitness'),\n",
              "  Text(0.9039556085875656, -0.6267888461859257, 'Arcade'),\n",
              "  Text(1.0795966472106115, -0.21088167139798242, 'Photography')],\n",
              " [Text(0.5426142955773319, 0.2560658630804112, '14.0%'),\n",
              "  Text(0.14729128655215504, 0.5816401610152199, '14.0%'),\n",
              "  Text(-0.3553411595401641, 0.48345905755984303, '14.0%'),\n",
              "  Text(-0.5963584078815175, 0.0660049191274533, '12.3%'),\n",
              "  Text(-0.4930666795884336, -0.3418848482744401, '10.5%'),\n",
              "  Text(-0.2257856117549336, -0.5558964449647528, '7.9%'),\n",
              "  Text(0.04954761464973941, -0.5979506951936094, '7.0%'),\n",
              "  Text(0.30000000810831473, -0.5196152375893254, '7.0%'),\n",
              "  Text(0.4930666955932176, -0.34188482519232305, '7.0%'),\n",
              "  Text(0.5888708984785154, -0.1150263662170813, '6.1%')])"
            ]
          },
          "metadata": {
            "tags": []
          },
          "execution_count": 187
        },
        {
          "output_type": "display_data",
          "data": {
            "image/png": "[encoded data removed]",
            "text/plain": [
              "<Figure size 720x504 with 1 Axes>"
            ]
          },
          "metadata": {
            "tags": []
          }
        }
      ]
    },
    {
      "cell_type": "markdown",
      "metadata": {
        "id": "z_6apljpssbO"
      },
      "source": [
        "# *That was for overall paid apps. Lets check it in current market. i.e. We will consider apps updated in 1 year are recent apps and others are outdated apps.*"
      ]
    },
    {
      "cell_type": "code",
      "metadata": {
        "id": "VBJ06o7wss0z",
        "outputId": "47451f87-7976-40cd-ef9e-601411f46cbe",
        "colab": {
          "base_uri": "https://localhost:8080/",
          "height": 745
        }
      },
      "source": [
        "#there are no apps updated in 1 year so consideering 2 years - from 2018\n",
        "current_paid_apps_df=apps_df[(apps_df['Type']=='Paid') & (apps_df['updation_year']>=2018)]\n",
        "current_paid_apps_df"
      ],
      "execution_count": null,
      "outputs": [
        {
          "output_type": "execute_result",
          "data": {
            "text/html": [
              "<div>\n",
              "<style scoped>\n",
              "    .dataframe tbody tr th:only-of-type {\n",
              "        vertical-align: middle;\n",
              "    }\n",
              "\n",
              "    .dataframe tbody tr th {\n",
              "        vertical-align: top;\n",
              "    }\n",
              "\n",
              "    .dataframe thead th {\n",
              "        text-align: right;\n",
              "    }\n",
              "</style>\n",
              "<table border=\"1\" class=\"dataframe\">\n",
              "  <thead>\n",
              "    <tr style=\"text-align: right;\">\n",
              "      <th></th>\n",
              "      <th>App</th>\n",
              "      <th>Category</th>\n",
              "      <th>Rating</th>\n",
              "      <th>Reviews</th>\n",
              "      <th>Size</th>\n",
              "      <th>Installs</th>\n",
              "      <th>Type</th>\n",
              "      <th>Price</th>\n",
              "      <th>Content Rating</th>\n",
              "      <th>Genres</th>\n",
              "      <th>Last Updated</th>\n",
              "      <th>Current Ver</th>\n",
              "      <th>Android Ver</th>\n",
              "      <th>updation_year</th>\n",
              "      <th>Size_in_kb</th>\n",
              "    </tr>\n",
              "  </thead>\n",
              "  <tbody>\n",
              "    <tr>\n",
              "      <th>234</th>\n",
              "      <td>TurboScan: scan documents and receipts in PDF</td>\n",
              "      <td>BUSINESS</td>\n",
              "      <td>4.7</td>\n",
              "      <td>11442</td>\n",
              "      <td>6.8M</td>\n",
              "      <td>100000</td>\n",
              "      <td>Paid</td>\n",
              "      <td>4.99</td>\n",
              "      <td>Everyone</td>\n",
              "      <td>Business</td>\n",
              "      <td>March 25, 2018</td>\n",
              "      <td>1.5.2</td>\n",
              "      <td>4.0 and up</td>\n",
              "      <td>2018</td>\n",
              "      <td>6800.0</td>\n",
              "    </tr>\n",
              "    <tr>\n",
              "      <th>427</th>\n",
              "      <td>Puffin Browser Pro</td>\n",
              "      <td>COMMUNICATION</td>\n",
              "      <td>4.0</td>\n",
              "      <td>18247</td>\n",
              "      <td>Varies with device</td>\n",
              "      <td>100000</td>\n",
              "      <td>Paid</td>\n",
              "      <td>3.99</td>\n",
              "      <td>Everyone</td>\n",
              "      <td>Communication</td>\n",
              "      <td>July 5, 2018</td>\n",
              "      <td>7.5.3.20547</td>\n",
              "      <td>4.1 and up</td>\n",
              "      <td>2018</td>\n",
              "      <td>0.0</td>\n",
              "    </tr>\n",
              "    <tr>\n",
              "      <th>476</th>\n",
              "      <td>Moco+ - Chat, Meet People</td>\n",
              "      <td>DATING</td>\n",
              "      <td>4.2</td>\n",
              "      <td>1545</td>\n",
              "      <td>Varies with device</td>\n",
              "      <td>10000</td>\n",
              "      <td>Paid</td>\n",
              "      <td>3.99</td>\n",
              "      <td>Mature 17+</td>\n",
              "      <td>Dating</td>\n",
              "      <td>June 19, 2018</td>\n",
              "      <td>2.6.139</td>\n",
              "      <td>4.1 and up</td>\n",
              "      <td>2018</td>\n",
              "      <td>0.0</td>\n",
              "    </tr>\n",
              "    <tr>\n",
              "      <th>480</th>\n",
              "      <td>Ad Blocker for SayHi</td>\n",
              "      <td>DATING</td>\n",
              "      <td>0.0</td>\n",
              "      <td>4</td>\n",
              "      <td>1.2M</td>\n",
              "      <td>100</td>\n",
              "      <td>Paid</td>\n",
              "      <td>3.99</td>\n",
              "      <td>Teen</td>\n",
              "      <td>Dating</td>\n",
              "      <td>August 2, 2018</td>\n",
              "      <td>1.2</td>\n",
              "      <td>4.0.3 and up</td>\n",
              "      <td>2018</td>\n",
              "      <td>1200.0</td>\n",
              "    </tr>\n",
              "    <tr>\n",
              "      <th>853</th>\n",
              "      <td>Toca Life: City</td>\n",
              "      <td>EDUCATION</td>\n",
              "      <td>4.7</td>\n",
              "      <td>31085</td>\n",
              "      <td>24M</td>\n",
              "      <td>500000</td>\n",
              "      <td>Paid</td>\n",
              "      <td>3.99</td>\n",
              "      <td>Everyone</td>\n",
              "      <td>Education;Pretend Play</td>\n",
              "      <td>July 6, 2018</td>\n",
              "      <td>1.5-play</td>\n",
              "      <td>4.4 and up</td>\n",
              "      <td>2018</td>\n",
              "      <td>24000.0</td>\n",
              "    </tr>\n",
              "    <tr>\n",
              "      <th>...</th>\n",
              "      <td>...</td>\n",
              "      <td>...</td>\n",
              "      <td>...</td>\n",
              "      <td>...</td>\n",
              "      <td>...</td>\n",
              "      <td>...</td>\n",
              "      <td>...</td>\n",
              "      <td>...</td>\n",
              "      <td>...</td>\n",
              "      <td>...</td>\n",
              "      <td>...</td>\n",
              "      <td>...</td>\n",
              "      <td>...</td>\n",
              "      <td>...</td>\n",
              "      <td>...</td>\n",
              "    </tr>\n",
              "    <tr>\n",
              "      <th>10679</th>\n",
              "      <td>Solitaire+</td>\n",
              "      <td>GAME</td>\n",
              "      <td>4.6</td>\n",
              "      <td>11235</td>\n",
              "      <td>Varies with device</td>\n",
              "      <td>100000</td>\n",
              "      <td>Paid</td>\n",
              "      <td>2.99</td>\n",
              "      <td>Everyone</td>\n",
              "      <td>Card</td>\n",
              "      <td>July 30, 2018</td>\n",
              "      <td>Varies with device</td>\n",
              "      <td>Varies with device</td>\n",
              "      <td>2018</td>\n",
              "      <td>0.0</td>\n",
              "    </tr>\n",
              "    <tr>\n",
              "      <th>10682</th>\n",
              "      <td>Fruit Ninja Classic</td>\n",
              "      <td>GAME</td>\n",
              "      <td>4.3</td>\n",
              "      <td>85468</td>\n",
              "      <td>36M</td>\n",
              "      <td>1000000</td>\n",
              "      <td>Paid</td>\n",
              "      <td>0.99</td>\n",
              "      <td>Everyone</td>\n",
              "      <td>Arcade</td>\n",
              "      <td>June 8, 2018</td>\n",
              "      <td>2.4.1.485300</td>\n",
              "      <td>4.0.3 and up</td>\n",
              "      <td>2018</td>\n",
              "      <td>36000.0</td>\n",
              "    </tr>\n",
              "    <tr>\n",
              "      <th>10690</th>\n",
              "      <td>FO Bixby</td>\n",
              "      <td>PERSONALIZATION</td>\n",
              "      <td>5.0</td>\n",
              "      <td>5</td>\n",
              "      <td>861k</td>\n",
              "      <td>100</td>\n",
              "      <td>Paid</td>\n",
              "      <td>0.99</td>\n",
              "      <td>Everyone</td>\n",
              "      <td>Personalization</td>\n",
              "      <td>April 25, 2018</td>\n",
              "      <td>0.2</td>\n",
              "      <td>7.0 and up</td>\n",
              "      <td>2018</td>\n",
              "      <td>861.0</td>\n",
              "    </tr>\n",
              "    <tr>\n",
              "      <th>10760</th>\n",
              "      <td>Fast Tract Diet</td>\n",
              "      <td>HEALTH_AND_FITNESS</td>\n",
              "      <td>4.4</td>\n",
              "      <td>35</td>\n",
              "      <td>2.4M</td>\n",
              "      <td>1000</td>\n",
              "      <td>Paid</td>\n",
              "      <td>7.99</td>\n",
              "      <td>Everyone</td>\n",
              "      <td>Health &amp; Fitness</td>\n",
              "      <td>August 8, 2018</td>\n",
              "      <td>1.9.3</td>\n",
              "      <td>4.2 and up</td>\n",
              "      <td>2018</td>\n",
              "      <td>2400.0</td>\n",
              "    </tr>\n",
              "    <tr>\n",
              "      <th>10785</th>\n",
              "      <td>sugar, sugar</td>\n",
              "      <td>FAMILY</td>\n",
              "      <td>4.2</td>\n",
              "      <td>1405</td>\n",
              "      <td>9.5M</td>\n",
              "      <td>10000</td>\n",
              "      <td>Paid</td>\n",
              "      <td>1.20</td>\n",
              "      <td>Everyone</td>\n",
              "      <td>Puzzle</td>\n",
              "      <td>June 5, 2018</td>\n",
              "      <td>2.7</td>\n",
              "      <td>2.3 and up</td>\n",
              "      <td>2018</td>\n",
              "      <td>9500.0</td>\n",
              "    </tr>\n",
              "  </tbody>\n",
              "</table>\n",
              "<p>323 rows × 15 columns</p>\n",
              "</div>"
            ],
            "text/plain": [
              "                                                 App  ... Size_in_kb\n",
              "234    TurboScan: scan documents and receipts in PDF  ...     6800.0\n",
              "427                               Puffin Browser Pro  ...        0.0\n",
              "476                        Moco+ - Chat, Meet People  ...        0.0\n",
              "480                             Ad Blocker for SayHi  ...     1200.0\n",
              "853                                  Toca Life: City  ...    24000.0\n",
              "...                                              ...  ...        ...\n",
              "10679                                     Solitaire+  ...        0.0\n",
              "10682                            Fruit Ninja Classic  ...    36000.0\n",
              "10690                                       FO Bixby  ...      861.0\n",
              "10760                                Fast Tract Diet  ...     2400.0\n",
              "10785                                   sugar, sugar  ...     9500.0\n",
              "\n",
              "[323 rows x 15 columns]"
            ]
          },
          "metadata": {
            "tags": []
          },
          "execution_count": 254
        }
      ]
    },
    {
      "cell_type": "code",
      "metadata": {
        "id": "fOHm-_9mstam",
        "outputId": "77010706-dfc3-48b4-b165-9ea9fca7661b",
        "colab": {
          "base_uri": "https://localhost:8080/"
        }
      },
      "source": [
        "current_paid_apps_df.sort_values(by=['Installs','Rating'],ascending=[False,False],inplace=True)"
      ],
      "execution_count": null,
      "outputs": [
        {
          "output_type": "stream",
          "text": [
            "/usr/local/lib/python3.6/dist-packages/ipykernel_launcher.py:1: SettingWithCopyWarning: \n",
            "A value is trying to be set on a copy of a slice from a DataFrame\n",
            "\n",
            "See the caveats in the documentation: https://pandas.pydata.org/pandas-docs/stable/user_guide/indexing.html#returning-a-view-versus-a-copy\n",
            "  \"\"\"Entry point for launching an IPython kernel.\n"
          ],
          "name": "stderr"
        }
      ]
    },
    {
      "cell_type": "code",
      "metadata": {
        "id": "tqxyYXpjuHM3"
      },
      "source": [
        "temp1=current_paid_apps_df.head(100)"
      ],
      "execution_count": null,
      "outputs": []
    },
    {
      "cell_type": "code",
      "metadata": {
        "id": "yOR2PYMNstPd",
        "outputId": "63b2aab9-c1cd-41d3-abb5-c7f105f0dd79",
        "colab": {
          "base_uri": "https://localhost:8080/",
          "height": 359
        }
      },
      "source": [
        "#which category is more succesfull\n",
        "category_counts=pd.DataFrame(temp1['Category'].value_counts().head(10))\n",
        "category_counts"
      ],
      "execution_count": null,
      "outputs": [
        {
          "output_type": "execute_result",
          "data": {
            "text/html": [
              "<div>\n",
              "<style scoped>\n",
              "    .dataframe tbody tr th:only-of-type {\n",
              "        vertical-align: middle;\n",
              "    }\n",
              "\n",
              "    .dataframe tbody tr th {\n",
              "        vertical-align: top;\n",
              "    }\n",
              "\n",
              "    .dataframe thead th {\n",
              "        text-align: right;\n",
              "    }\n",
              "</style>\n",
              "<table border=\"1\" class=\"dataframe\">\n",
              "  <thead>\n",
              "    <tr style=\"text-align: right;\">\n",
              "      <th></th>\n",
              "      <th>Category</th>\n",
              "    </tr>\n",
              "  </thead>\n",
              "  <tbody>\n",
              "    <tr>\n",
              "      <th>FAMILY</th>\n",
              "      <td>20</td>\n",
              "    </tr>\n",
              "    <tr>\n",
              "      <th>GAME</th>\n",
              "      <td>18</td>\n",
              "    </tr>\n",
              "    <tr>\n",
              "      <th>TOOLS</th>\n",
              "      <td>10</td>\n",
              "    </tr>\n",
              "    <tr>\n",
              "      <th>HEALTH_AND_FITNESS</th>\n",
              "      <td>6</td>\n",
              "    </tr>\n",
              "    <tr>\n",
              "      <th>PRODUCTIVITY</th>\n",
              "      <td>6</td>\n",
              "    </tr>\n",
              "    <tr>\n",
              "      <th>PERSONALIZATION</th>\n",
              "      <td>5</td>\n",
              "    </tr>\n",
              "    <tr>\n",
              "      <th>MEDICAL</th>\n",
              "      <td>4</td>\n",
              "    </tr>\n",
              "    <tr>\n",
              "      <th>WEATHER</th>\n",
              "      <td>3</td>\n",
              "    </tr>\n",
              "    <tr>\n",
              "      <th>SPORTS</th>\n",
              "      <td>3</td>\n",
              "    </tr>\n",
              "    <tr>\n",
              "      <th>PHOTOGRAPHY</th>\n",
              "      <td>3</td>\n",
              "    </tr>\n",
              "  </tbody>\n",
              "</table>\n",
              "</div>"
            ],
            "text/plain": [
              "                    Category\n",
              "FAMILY                    20\n",
              "GAME                      18\n",
              "TOOLS                     10\n",
              "HEALTH_AND_FITNESS         6\n",
              "PRODUCTIVITY               6\n",
              "PERSONALIZATION            5\n",
              "MEDICAL                    4\n",
              "WEATHER                    3\n",
              "SPORTS                     3\n",
              "PHOTOGRAPHY                3"
            ]
          },
          "metadata": {
            "tags": []
          },
          "execution_count": 257
        }
      ]
    },
    {
      "cell_type": "code",
      "metadata": {
        "id": "SXjE02zluder",
        "outputId": "19305697-989d-4a90-edd8-6f4aeb9fb476",
        "colab": {
          "base_uri": "https://localhost:8080/",
          "height": 813
        }
      },
      "source": [
        "plt.pie(category_counts['Category'],labels=category_counts.index,autopct='%1.1f%%')"
      ],
      "execution_count": null,
      "outputs": [
        {
          "output_type": "execute_result",
          "data": {
            "text/plain": [
              "([<matplotlib.patches.Wedge at 0x7fe72843cc18>,\n",
              "  <matplotlib.patches.Wedge at 0x7fe728421f28>,\n",
              "  <matplotlib.patches.Wedge at 0x7fe7284ac978>,\n",
              "  <matplotlib.patches.Wedge at 0x7fe7284ac198>,\n",
              "  <matplotlib.patches.Wedge at 0x7fe7284a09e8>,\n",
              "  <matplotlib.patches.Wedge at 0x7fe7284a0240>,\n",
              "  <matplotlib.patches.Wedge at 0x7fe728489a20>,\n",
              "  <matplotlib.patches.Wedge at 0x7fe728489240>,\n",
              "  <matplotlib.patches.Wedge at 0x7fe7284f79e8>,\n",
              "  <matplotlib.patches.Wedge at 0x7fe7284f7240>],\n",
              " [Text(0.7619967526747025, 0.7933227268351818, 'FAMILY'),\n",
              "  Text(-0.7619968640890462, 0.7933226198202469, 'GAME'),\n",
              "  Text(-1.0433900439116068, -0.348334919676646, 'TOOLS'),\n",
              "  Text(-0.6248710828564846, -0.9052823481156387, 'HEALTH_AND_FITNESS'),\n",
              "  Text(-0.132590161498935, -1.0919797841872745, 'PRODUCTIVITY'),\n",
              "  Text(0.3483349929435644, -1.0433900194515027, 'PERSONALIZATION'),\n",
              "  Text(0.6956900877930215, -0.8520653154227897, 'MEDICAL'),\n",
              "  Text(0.9052823846810452, -0.6248710298823272, 'WEATHER'),\n",
              "  Text(1.0285179529879338, -0.39006514889375926, 'SPORTS'),\n",
              "  Text(1.0919797919460144, -0.13259009759985624, 'PHOTOGRAPHY')],\n",
              " [Text(0.41563459236801953, 0.43272148736464455, '25.6%'),\n",
              "  Text(-0.4156346531394797, 0.43272142899286187, '23.1%'),\n",
              "  Text(-0.5691218421336036, -0.1900008652781705, '12.8%'),\n",
              "  Text(-0.34083877246717337, -0.49379037169943923, '7.7%'),\n",
              "  Text(-0.07232190627214634, -0.5956253368294224, '7.7%'),\n",
              "  Text(0.19000090524194418, -0.5691218287917287, '6.4%'),\n",
              "  Text(0.3794673206143753, -0.4647628993215216, '5.1%'),\n",
              "  Text(0.4937903916442064, -0.3408387435721784, '3.8%'),\n",
              "  Text(0.561009792538873, -0.21276280848750503, '3.8%'),\n",
              "  Text(0.5956253410614623, -0.0723218714181034, '3.8%')])"
            ]
          },
          "metadata": {
            "tags": []
          },
          "execution_count": 259
        },
        {
          "output_type": "display_data",
          "data": {
            "image/png": "[encoded data removed]",
            "text/plain": [
              "<Figure size 576x360 with 1 Axes>"
            ]
          },
          "metadata": {
            "tags": []
          }
        }
      ]
    },
    {
      "cell_type": "markdown",
      "metadata": {
        "id": "2Ew36dwva5YF"
      },
      "source": [
        "# *Now lets check free apps that are usually updated.*"
      ]
    },
    {
      "cell_type": "code",
      "metadata": {
        "id": "NI6nbBBja6Iy",
        "outputId": "87976ef9-3369-4320-f812-1ba3fea7ea64",
        "colab": {
          "base_uri": "https://localhost:8080/",
          "height": 728
        }
      },
      "source": [
        "free_apps=apps_df[(apps_df['Type']=='Free') & (apps_df['updation_year']>=2018)]\n",
        "free_apps"
      ],
      "execution_count": null,
      "outputs": [
        {
          "output_type": "execute_result",
          "data": {
            "text/html": [
              "<div>\n",
              "<style scoped>\n",
              "    .dataframe tbody tr th:only-of-type {\n",
              "        vertical-align: middle;\n",
              "    }\n",
              "\n",
              "    .dataframe tbody tr th {\n",
              "        vertical-align: top;\n",
              "    }\n",
              "\n",
              "    .dataframe thead th {\n",
              "        text-align: right;\n",
              "    }\n",
              "</style>\n",
              "<table border=\"1\" class=\"dataframe\">\n",
              "  <thead>\n",
              "    <tr style=\"text-align: right;\">\n",
              "      <th></th>\n",
              "      <th>App</th>\n",
              "      <th>Category</th>\n",
              "      <th>Rating</th>\n",
              "      <th>Reviews</th>\n",
              "      <th>Size</th>\n",
              "      <th>Installs</th>\n",
              "      <th>Type</th>\n",
              "      <th>Price</th>\n",
              "      <th>Content Rating</th>\n",
              "      <th>Genres</th>\n",
              "      <th>Last Updated</th>\n",
              "      <th>Current Ver</th>\n",
              "      <th>Android Ver</th>\n",
              "      <th>updation_year</th>\n",
              "      <th>Size_in_kb</th>\n",
              "    </tr>\n",
              "  </thead>\n",
              "  <tbody>\n",
              "    <tr>\n",
              "      <th>0</th>\n",
              "      <td>Photo Editor &amp; Candy Camera &amp; Grid &amp; ScrapBook</td>\n",
              "      <td>ART_AND_DESIGN</td>\n",
              "      <td>4.1</td>\n",
              "      <td>159</td>\n",
              "      <td>19M</td>\n",
              "      <td>10000</td>\n",
              "      <td>Free</td>\n",
              "      <td>0.0</td>\n",
              "      <td>Everyone</td>\n",
              "      <td>Art &amp; Design</td>\n",
              "      <td>January 7, 2018</td>\n",
              "      <td>1.0.0</td>\n",
              "      <td>4.0.3 and up</td>\n",
              "      <td>2018</td>\n",
              "      <td>19000.0</td>\n",
              "    </tr>\n",
              "    <tr>\n",
              "      <th>1</th>\n",
              "      <td>Coloring book moana</td>\n",
              "      <td>ART_AND_DESIGN</td>\n",
              "      <td>3.9</td>\n",
              "      <td>967</td>\n",
              "      <td>14M</td>\n",
              "      <td>500000</td>\n",
              "      <td>Free</td>\n",
              "      <td>0.0</td>\n",
              "      <td>Everyone</td>\n",
              "      <td>Art &amp; Design;Pretend Play</td>\n",
              "      <td>January 15, 2018</td>\n",
              "      <td>2.0.0</td>\n",
              "      <td>4.0.3 and up</td>\n",
              "      <td>2018</td>\n",
              "      <td>14000.0</td>\n",
              "    </tr>\n",
              "    <tr>\n",
              "      <th>2</th>\n",
              "      <td>U Launcher Lite – FREE Live Cool Themes, Hide ...</td>\n",
              "      <td>ART_AND_DESIGN</td>\n",
              "      <td>4.7</td>\n",
              "      <td>87510</td>\n",
              "      <td>8.7M</td>\n",
              "      <td>5000000</td>\n",
              "      <td>Free</td>\n",
              "      <td>0.0</td>\n",
              "      <td>Everyone</td>\n",
              "      <td>Art &amp; Design</td>\n",
              "      <td>August 1, 2018</td>\n",
              "      <td>1.2.4</td>\n",
              "      <td>4.0.3 and up</td>\n",
              "      <td>2018</td>\n",
              "      <td>8700.0</td>\n",
              "    </tr>\n",
              "    <tr>\n",
              "      <th>3</th>\n",
              "      <td>Sketch - Draw &amp; Paint</td>\n",
              "      <td>ART_AND_DESIGN</td>\n",
              "      <td>4.5</td>\n",
              "      <td>215644</td>\n",
              "      <td>25M</td>\n",
              "      <td>50000000</td>\n",
              "      <td>Free</td>\n",
              "      <td>0.0</td>\n",
              "      <td>Teen</td>\n",
              "      <td>Art &amp; Design</td>\n",
              "      <td>June 8, 2018</td>\n",
              "      <td>Varies with device</td>\n",
              "      <td>4.2 and up</td>\n",
              "      <td>2018</td>\n",
              "      <td>25000.0</td>\n",
              "    </tr>\n",
              "    <tr>\n",
              "      <th>4</th>\n",
              "      <td>Pixel Draw - Number Art Coloring Book</td>\n",
              "      <td>ART_AND_DESIGN</td>\n",
              "      <td>4.3</td>\n",
              "      <td>967</td>\n",
              "      <td>2.8M</td>\n",
              "      <td>100000</td>\n",
              "      <td>Free</td>\n",
              "      <td>0.0</td>\n",
              "      <td>Everyone</td>\n",
              "      <td>Art &amp; Design;Creativity</td>\n",
              "      <td>June 20, 2018</td>\n",
              "      <td>1.1</td>\n",
              "      <td>4.4 and up</td>\n",
              "      <td>2018</td>\n",
              "      <td>2800.0</td>\n",
              "    </tr>\n",
              "    <tr>\n",
              "      <th>...</th>\n",
              "      <td>...</td>\n",
              "      <td>...</td>\n",
              "      <td>...</td>\n",
              "      <td>...</td>\n",
              "      <td>...</td>\n",
              "      <td>...</td>\n",
              "      <td>...</td>\n",
              "      <td>...</td>\n",
              "      <td>...</td>\n",
              "      <td>...</td>\n",
              "      <td>...</td>\n",
              "      <td>...</td>\n",
              "      <td>...</td>\n",
              "      <td>...</td>\n",
              "      <td>...</td>\n",
              "    </tr>\n",
              "    <tr>\n",
              "      <th>10826</th>\n",
              "      <td>Frim: get new friends on local chat rooms</td>\n",
              "      <td>SOCIAL</td>\n",
              "      <td>4.0</td>\n",
              "      <td>88486</td>\n",
              "      <td>Varies with device</td>\n",
              "      <td>5000000</td>\n",
              "      <td>Free</td>\n",
              "      <td>0.0</td>\n",
              "      <td>Mature 17+</td>\n",
              "      <td>Social</td>\n",
              "      <td>March 23, 2018</td>\n",
              "      <td>Varies with device</td>\n",
              "      <td>Varies with device</td>\n",
              "      <td>2018</td>\n",
              "      <td>0.0</td>\n",
              "    </tr>\n",
              "    <tr>\n",
              "      <th>10827</th>\n",
              "      <td>Fr Agnel Ambarnath</td>\n",
              "      <td>FAMILY</td>\n",
              "      <td>4.2</td>\n",
              "      <td>117</td>\n",
              "      <td>13M</td>\n",
              "      <td>5000</td>\n",
              "      <td>Free</td>\n",
              "      <td>0.0</td>\n",
              "      <td>Everyone</td>\n",
              "      <td>Education</td>\n",
              "      <td>June 13, 2018</td>\n",
              "      <td>2.0.20</td>\n",
              "      <td>4.0.3 and up</td>\n",
              "      <td>2018</td>\n",
              "      <td>13000.0</td>\n",
              "    </tr>\n",
              "    <tr>\n",
              "      <th>10831</th>\n",
              "      <td>payermonstationnement.fr</td>\n",
              "      <td>MAPS_AND_NAVIGATION</td>\n",
              "      <td>0.0</td>\n",
              "      <td>38</td>\n",
              "      <td>9.8M</td>\n",
              "      <td>5000</td>\n",
              "      <td>Free</td>\n",
              "      <td>0.0</td>\n",
              "      <td>Everyone</td>\n",
              "      <td>Maps &amp; Navigation</td>\n",
              "      <td>June 13, 2018</td>\n",
              "      <td>2.0.148.0</td>\n",
              "      <td>4.0 and up</td>\n",
              "      <td>2018</td>\n",
              "      <td>9800.0</td>\n",
              "    </tr>\n",
              "    <tr>\n",
              "      <th>10837</th>\n",
              "      <td>Fr. Mike Schmitz Audio Teachings</td>\n",
              "      <td>FAMILY</td>\n",
              "      <td>5.0</td>\n",
              "      <td>4</td>\n",
              "      <td>3.6M</td>\n",
              "      <td>100</td>\n",
              "      <td>Free</td>\n",
              "      <td>0.0</td>\n",
              "      <td>Everyone</td>\n",
              "      <td>Education</td>\n",
              "      <td>July 6, 2018</td>\n",
              "      <td>1.0</td>\n",
              "      <td>4.1 and up</td>\n",
              "      <td>2018</td>\n",
              "      <td>3600.0</td>\n",
              "    </tr>\n",
              "    <tr>\n",
              "      <th>10840</th>\n",
              "      <td>iHoroscope - 2018 Daily Horoscope &amp; Astrology</td>\n",
              "      <td>LIFESTYLE</td>\n",
              "      <td>4.5</td>\n",
              "      <td>398307</td>\n",
              "      <td>19M</td>\n",
              "      <td>10000000</td>\n",
              "      <td>Free</td>\n",
              "      <td>0.0</td>\n",
              "      <td>Everyone</td>\n",
              "      <td>Lifestyle</td>\n",
              "      <td>July 25, 2018</td>\n",
              "      <td>Varies with device</td>\n",
              "      <td>Varies with device</td>\n",
              "      <td>2018</td>\n",
              "      <td>19000.0</td>\n",
              "    </tr>\n",
              "  </tbody>\n",
              "</table>\n",
              "<p>5956 rows × 15 columns</p>\n",
              "</div>"
            ],
            "text/plain": [
              "                                                     App  ... Size_in_kb\n",
              "0         Photo Editor & Candy Camera & Grid & ScrapBook  ...    19000.0\n",
              "1                                    Coloring book moana  ...    14000.0\n",
              "2      U Launcher Lite – FREE Live Cool Themes, Hide ...  ...     8700.0\n",
              "3                                  Sketch - Draw & Paint  ...    25000.0\n",
              "4                  Pixel Draw - Number Art Coloring Book  ...     2800.0\n",
              "...                                                  ...  ...        ...\n",
              "10826          Frim: get new friends on local chat rooms  ...        0.0\n",
              "10827                                 Fr Agnel Ambarnath  ...    13000.0\n",
              "10831                           payermonstationnement.fr  ...     9800.0\n",
              "10837                   Fr. Mike Schmitz Audio Teachings  ...     3600.0\n",
              "10840      iHoroscope - 2018 Daily Horoscope & Astrology  ...    19000.0\n",
              "\n",
              "[5956 rows x 15 columns]"
            ]
          },
          "metadata": {
            "tags": []
          },
          "execution_count": 265
        }
      ]
    },
    {
      "cell_type": "code",
      "metadata": {
        "id": "HMH9VuJ3a6vR",
        "outputId": "5a15aa04-7657-43ad-dc59-6a1f99356313",
        "colab": {
          "base_uri": "https://localhost:8080/"
        }
      },
      "source": [
        "free_apps['Installs'].describe()"
      ],
      "execution_count": null,
      "outputs": [
        {
          "output_type": "execute_result",
          "data": {
            "text/plain": [
              "count    5.956000e+03\n",
              "mean     1.176727e+07\n",
              "std      6.792207e+07\n",
              "min      0.000000e+00\n",
              "25%      5.000000e+03\n",
              "50%      5.000000e+05\n",
              "75%      5.000000e+06\n",
              "max      1.000000e+09\n",
              "Name: Installs, dtype: float64"
            ]
          },
          "metadata": {
            "tags": []
          },
          "execution_count": 264
        }
      ]
    },
    {
      "cell_type": "markdown",
      "metadata": {
        "id": "fQeF4sgH3Hz-"
      },
      "source": [
        "# We can't ignore any values. So will take it in 3 parts.\n",
        "\n",
        "# 1st - min - 25%\n",
        "# 2 - 25% - 75%\n",
        "# 3- 75% to max"
      ]
    },
    {
      "cell_type": "code",
      "metadata": {
        "id": "JOjnk4q3a6hs"
      },
      "source": [
        ""
      ],
      "execution_count": null,
      "outputs": []
    }
  ]
}